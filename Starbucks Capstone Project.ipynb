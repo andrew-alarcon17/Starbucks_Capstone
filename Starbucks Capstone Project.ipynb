{
 "cells": [
  {
   "cell_type": "markdown",
   "id": "026e4d41",
   "metadata": {},
   "source": [
    "# Starbucks Capstone Challenge\n",
    "\n",
    "### Introduction\n",
    "\n",
    "This data set contains simulated data that mimics customer behavior on the Starbucks rewards mobile app. Once every few days, Starbucks sends out an offer to users of the mobile app. An offer can be merely an advertisement for a drink or an actual offer such as a discount or BOGO (buy one get one free). Some users might not receive any offer during certain weeks. \n",
    "\n",
    "Not all users receive the same offer, and that is the challenge to solve with this data set.\n",
    "\n",
    "Your task is to combine transaction, demographic and offer data to determine which demographic groups respond best to which offer type. This data set is a simplified version of the real Starbucks app because the underlying simulator only has one product whereas Starbucks actually sells dozens of products.\n",
    "\n",
    "Every offer has a validity period before the offer expires. As an example, a BOGO offer might be valid for only 5 days. You'll see in the data set that informational offers have a validity period even though these ads are merely providing information about a product; for example, if an informational offer has 7 days of validity, you can assume the customer is feeling the influence of the offer for 7 days after receiving the advertisement.\n",
    "\n",
    "You'll be given transactional data showing user purchases made on the app including the timestamp of purchase and the amount of money spent on a purchase. This transactional data also has a record for each offer that a user receives as well as a record for when a user actually views the offer. There are also records for when a user completes an offer. \n",
    "\n",
    "Keep in mind as well that someone using the app might make a purchase through the app without having received an offer or seen an offer.\n",
    "\n",
    "### Example\n",
    "\n",
    "To give an example, a user could receive a discount offer buy 10 dollars get 2 off on Monday. The offer is valid for 10 days from receipt. If the customer accumulates at least 10 dollars in purchases during the validity period, the customer completes the offer.\n",
    "\n",
    "However, there are a few things to watch out for in this data set. Customers do not opt into the offers that they receive; in other words, a user can receive an offer, never actually view the offer, and still complete the offer. For example, a user might receive the \"buy 10 dollars get 2 dollars off offer\", but the user never opens the offer during the 10 day validity period. The customer spends 15 dollars during those ten days. There will be an offer completion record in the data set; however, the customer was not influenced by the offer because the customer never viewed the offer.\n",
    "\n",
    "### Cleaning\n",
    "\n",
    "This makes data cleaning especially important and tricky.\n",
    "\n",
    "You'll also want to take into account that some demographic groups will make purchases even if they don't receive an offer. From a business perspective, if a customer is going to make a 10 dollar purchase without an offer anyway, you wouldn't want to send a buy 10 dollars get 2 dollars off offer. You'll want to try to assess what a certain demographic group will buy when not receiving any offers.\n",
    "\n",
    "### Final Advice\n",
    "\n",
    "Because this is a capstone project, you are free to analyze the data any way you see fit. For example, you could build a machine learning model that predicts how much someone will spend based on demographics and offer type. Or you could build a model that predicts whether or not someone will respond to an offer. Or, you don't need to build a machine learning model at all. You could develop a set of heuristics that determine what offer you should send to each customer (i.e., 75 percent of women customers who were 35 years old responded to offer A vs 40 percent from the same demographic to offer B, so send offer A)."
   ]
  },
  {
   "cell_type": "markdown",
   "id": "d8f189fa",
   "metadata": {},
   "source": [
    "# Data Sets\n",
    "\n",
    "The data is contained in three files:\n",
    "\n",
    "* portfolio.json - containing offer ids and meta data about each offer (duration, type, etc.)\n",
    "* profile.json - demographic data for each customer\n",
    "* transcript.json - records for transactions, offers received, offers viewed, and offers completed\n",
    "\n",
    "Here is the schema and explanation of each variable in the files:\n",
    "\n",
    "**portfolio.json**\n",
    "* id (string) - offer id\n",
    "* offer_type (string) - type of offer ie BOGO, discount, informational\n",
    "* difficulty (int) - minimum required spend to complete an offer\n",
    "* reward (int) - reward given for completing an offer\n",
    "* duration (int) - time for offer to be open, in days\n",
    "* channels (list of strings)\n",
    "\n",
    "**profile.json**\n",
    "* age (int) - age of the customer \n",
    "* became_member_on (int) - date when customer created an app account\n",
    "* gender (str) - gender of the customer (note some entries contain 'O' for other rather than M or F)\n",
    "* id (str) - customer id\n",
    "* income (float) - customer's income\n",
    "\n",
    "**transcript.json**\n",
    "* event (str) - record description (ie transaction, offer received, offer viewed, etc.)\n",
    "* person (str) - customer id\n",
    "* time (int) - time in hours since start of test. The data begins at time t=0\n",
    "* value - (dict of strings) - either an offer id or transaction amount depending on the record\n",
    "\n",
    "**Note:** If you are using the workspace, you will need to go to the terminal and run the command `conda update pandas` before reading in the files. This is because the version of pandas in the workspace cannot read in the transcript.json file correctly, but the newest version of pandas can. You can access the termnal from the orange icon in the top left of this notebook.  \n",
    "\n",
    "You can see how to access the terminal and how the install works using the two images below.  First you need to access the terminal:\n",
    "\n",
    "<img src=\"pic1.png\"/>\n",
    "\n",
    "Then you will want to run the above command:\n",
    "\n",
    "<img src=\"pic2.png\"/>\n",
    "\n",
    "Finally, when you enter back into the notebook (use the jupyter icon again), you should be able to run the below cell without any errors."
   ]
  },
  {
   "cell_type": "code",
   "execution_count": 147,
   "id": "93978fef",
   "metadata": {},
   "outputs": [],
   "source": [
    "import pandas as pd\n",
    "import numpy as np\n",
    "import math\n",
    "import json\n",
    "% matplotlib inline\n",
    "import matplotlib.pyplot as plt\n",
    "import seaborn as sns\n",
    "import seaborn as sns\n",
    "from datetime import datetime\n",
    "from sklearn.model_selection import train_test_split\n",
    "from sklearn.linear_model import LogisticRegression\n",
    "from sklearn.ensemble import RandomForestClassifier\n",
    "from sklearn.model_selection import GridSearchCV\n",
    "from sklearn.model_selection import RandomizedSearchCV\n",
    "from sklearn.preprocessing import StandardScaler\n",
    "from sklearn.preprocessing import MinMaxScaler\n",
    "from sklearn.metrics import classification_report\n",
    "from sklearn.metrics import f1_score\n",
    "from sklearn.metrics import precision_score\n",
    "from sklearn.metrics import recall_score\n",
    "from sklearn.metrics import accuracy_score\n",
    "from sklearn.model_selection import KFold\n",
    "from sklearn.model_selection import cross_val_score\n",
    "from sklearn import metrics\n",
    "\n",
    "pd.set_option('display.max_columns', None)"
   ]
  },
  {
   "cell_type": "code",
   "execution_count": 148,
   "id": "035311b7",
   "metadata": {},
   "outputs": [],
   "source": [
    "# read in the json files\n",
    "portfolio = pd.read_json('data/portfolio.json', orient='records', lines=True)\n",
    "profile = pd.read_json('data/profile.json', orient='records', lines=True)\n",
    "transcript = pd.read_json('data/transcript.json', orient='records', lines=True)"
   ]
  },
  {
   "cell_type": "code",
   "execution_count": 149,
   "id": "084867bd",
   "metadata": {},
   "outputs": [
    {
     "data": {
      "text/plain": [
       "10"
      ]
     },
     "execution_count": 149,
     "metadata": {},
     "output_type": "execute_result"
    }
   ],
   "source": [
    "len(portfolio)"
   ]
  },
  {
   "cell_type": "code",
   "execution_count": 150,
   "id": "a0ab001b",
   "metadata": {},
   "outputs": [
    {
     "data": {
      "text/plain": [
       "17000"
      ]
     },
     "execution_count": 150,
     "metadata": {},
     "output_type": "execute_result"
    }
   ],
   "source": [
    "len(profile)"
   ]
  },
  {
   "cell_type": "code",
   "execution_count": 151,
   "id": "0482179f",
   "metadata": {},
   "outputs": [
    {
     "data": {
      "text/plain": [
       "306534"
      ]
     },
     "execution_count": 151,
     "metadata": {},
     "output_type": "execute_result"
    }
   ],
   "source": [
    "len(transcript)"
   ]
  },
  {
   "cell_type": "markdown",
   "id": "af58d27d",
   "metadata": {},
   "source": [
    "## Data Cleaning"
   ]
  },
  {
   "cell_type": "markdown",
   "id": "45a594e3",
   "metadata": {},
   "source": [
    "### Cleaning the Portfolio data\n",
    "\n",
    "To clean this dataframe, we would like to make categorical columns for offer_type and the channel columns."
   ]
  },
  {
   "cell_type": "code",
   "execution_count": 152,
   "id": "446825e9",
   "metadata": {},
   "outputs": [
    {
     "data": {
      "text/html": [
       "<div>\n",
       "<style scoped>\n",
       "    .dataframe tbody tr th:only-of-type {\n",
       "        vertical-align: middle;\n",
       "    }\n",
       "\n",
       "    .dataframe tbody tr th {\n",
       "        vertical-align: top;\n",
       "    }\n",
       "\n",
       "    .dataframe thead th {\n",
       "        text-align: right;\n",
       "    }\n",
       "</style>\n",
       "<table border=\"1\" class=\"dataframe\">\n",
       "  <thead>\n",
       "    <tr style=\"text-align: right;\">\n",
       "      <th></th>\n",
       "      <th>channels</th>\n",
       "      <th>difficulty</th>\n",
       "      <th>duration</th>\n",
       "      <th>id</th>\n",
       "      <th>offer_type</th>\n",
       "      <th>reward</th>\n",
       "    </tr>\n",
       "  </thead>\n",
       "  <tbody>\n",
       "    <tr>\n",
       "      <th>0</th>\n",
       "      <td>[email, mobile, social]</td>\n",
       "      <td>10</td>\n",
       "      <td>7</td>\n",
       "      <td>ae264e3637204a6fb9bb56bc8210ddfd</td>\n",
       "      <td>bogo</td>\n",
       "      <td>10</td>\n",
       "    </tr>\n",
       "    <tr>\n",
       "      <th>1</th>\n",
       "      <td>[web, email, mobile, social]</td>\n",
       "      <td>10</td>\n",
       "      <td>5</td>\n",
       "      <td>4d5c57ea9a6940dd891ad53e9dbe8da0</td>\n",
       "      <td>bogo</td>\n",
       "      <td>10</td>\n",
       "    </tr>\n",
       "    <tr>\n",
       "      <th>2</th>\n",
       "      <td>[web, email, mobile]</td>\n",
       "      <td>0</td>\n",
       "      <td>4</td>\n",
       "      <td>3f207df678b143eea3cee63160fa8bed</td>\n",
       "      <td>informational</td>\n",
       "      <td>0</td>\n",
       "    </tr>\n",
       "    <tr>\n",
       "      <th>3</th>\n",
       "      <td>[web, email, mobile]</td>\n",
       "      <td>5</td>\n",
       "      <td>7</td>\n",
       "      <td>9b98b8c7a33c4b65b9aebfe6a799e6d9</td>\n",
       "      <td>bogo</td>\n",
       "      <td>5</td>\n",
       "    </tr>\n",
       "    <tr>\n",
       "      <th>4</th>\n",
       "      <td>[web, email]</td>\n",
       "      <td>20</td>\n",
       "      <td>10</td>\n",
       "      <td>0b1e1539f2cc45b7b9fa7c272da2e1d7</td>\n",
       "      <td>discount</td>\n",
       "      <td>5</td>\n",
       "    </tr>\n",
       "  </tbody>\n",
       "</table>\n",
       "</div>"
      ],
      "text/plain": [
       "                       channels  difficulty  duration  \\\n",
       "0       [email, mobile, social]          10         7   \n",
       "1  [web, email, mobile, social]          10         5   \n",
       "2          [web, email, mobile]           0         4   \n",
       "3          [web, email, mobile]           5         7   \n",
       "4                  [web, email]          20        10   \n",
       "\n",
       "                                 id     offer_type  reward  \n",
       "0  ae264e3637204a6fb9bb56bc8210ddfd           bogo      10  \n",
       "1  4d5c57ea9a6940dd891ad53e9dbe8da0           bogo      10  \n",
       "2  3f207df678b143eea3cee63160fa8bed  informational       0  \n",
       "3  9b98b8c7a33c4b65b9aebfe6a799e6d9           bogo       5  \n",
       "4  0b1e1539f2cc45b7b9fa7c272da2e1d7       discount       5  "
      ]
     },
     "execution_count": 152,
     "metadata": {},
     "output_type": "execute_result"
    }
   ],
   "source": [
    "portfolio.head()"
   ]
  },
  {
   "cell_type": "code",
   "execution_count": 153,
   "id": "c49b12cd",
   "metadata": {},
   "outputs": [
    {
     "data": {
      "text/plain": [
       "array(['bogo', 'informational', 'discount'], dtype=object)"
      ]
     },
     "execution_count": 153,
     "metadata": {},
     "output_type": "execute_result"
    }
   ],
   "source": [
    "portfolio.offer_type.unique()"
   ]
  },
  {
   "cell_type": "code",
   "execution_count": 154,
   "id": "eabaf4b9",
   "metadata": {},
   "outputs": [
    {
     "data": {
      "text/plain": [
       "10"
      ]
     },
     "execution_count": 154,
     "metadata": {},
     "output_type": "execute_result"
    }
   ],
   "source": [
    "len(portfolio)"
   ]
  },
  {
   "cell_type": "code",
   "execution_count": 155,
   "id": "a6623c44",
   "metadata": {},
   "outputs": [
    {
     "data": {
      "text/plain": [
       "channels      object\n",
       "difficulty     int64\n",
       "duration       int64\n",
       "id            object\n",
       "offer_type    object\n",
       "reward         int64\n",
       "dtype: object"
      ]
     },
     "execution_count": 155,
     "metadata": {},
     "output_type": "execute_result"
    }
   ],
   "source": [
    "portfolio.dtypes"
   ]
  },
  {
   "cell_type": "markdown",
   "id": "66d39359",
   "metadata": {},
   "source": [
    "For offer type and channels, let's turn them into categorical columns."
   ]
  },
  {
   "cell_type": "code",
   "execution_count": 156,
   "id": "853a214b",
   "metadata": {},
   "outputs": [],
   "source": [
    "df_portfolio = portfolio.copy()"
   ]
  },
  {
   "cell_type": "code",
   "execution_count": 157,
   "id": "8abe2828",
   "metadata": {},
   "outputs": [],
   "source": [
    "#Source: https://stackoverflow.com/questions/37292872/how-can-i-one-hot-encode-in-python\n",
    "\n",
    "#Get one hot encoding of column 'offer_type'\n",
    "one_hot = pd.get_dummies(df_portfolio['offer_type'])\n",
    "\n",
    "#Drop column offer_type\n",
    "df_portfolio = df_portfolio.drop('offer_type', axis=1)\n",
    "\n",
    "#Join the encoded data frame\n",
    "df_portfolio = df_portfolio.join(one_hot)"
   ]
  },
  {
   "cell_type": "markdown",
   "id": "3dd5a092",
   "metadata": {},
   "source": [
    "Since the channel column is a series of lists, we have to handle this a bit differently in order to make categorical columns."
   ]
  },
  {
   "cell_type": "code",
   "execution_count": 158,
   "id": "bcceebe4",
   "metadata": {},
   "outputs": [],
   "source": [
    "#Source: https://izziswift.com/how-to-one-hot-encode-from-a-pandas-column-containing-a-list/\n",
    "\n",
    "df_portfolio = df_portfolio.drop('channels', 1).join(df_portfolio.channels.str.join('|').str.get_dummies())"
   ]
  },
  {
   "cell_type": "code",
   "execution_count": 159,
   "id": "0480db17",
   "metadata": {},
   "outputs": [
    {
     "data": {
      "text/plain": [
       "difficulty       False\n",
       "duration         False\n",
       "id               False\n",
       "reward           False\n",
       "bogo             False\n",
       "discount         False\n",
       "informational    False\n",
       "email            False\n",
       "mobile           False\n",
       "social           False\n",
       "web              False\n",
       "dtype: bool"
      ]
     },
     "execution_count": 159,
     "metadata": {},
     "output_type": "execute_result"
    }
   ],
   "source": [
    "df_portfolio.isnull().any()"
   ]
  },
  {
   "cell_type": "code",
   "execution_count": 160,
   "id": "3f78957a",
   "metadata": {},
   "outputs": [],
   "source": [
    "df_portfolio = df_portfolio.rename(columns={'id':'offer_id'})"
   ]
  },
  {
   "cell_type": "code",
   "execution_count": 161,
   "id": "bcbc1364",
   "metadata": {},
   "outputs": [
    {
     "data": {
      "text/html": [
       "<div>\n",
       "<style scoped>\n",
       "    .dataframe tbody tr th:only-of-type {\n",
       "        vertical-align: middle;\n",
       "    }\n",
       "\n",
       "    .dataframe tbody tr th {\n",
       "        vertical-align: top;\n",
       "    }\n",
       "\n",
       "    .dataframe thead th {\n",
       "        text-align: right;\n",
       "    }\n",
       "</style>\n",
       "<table border=\"1\" class=\"dataframe\">\n",
       "  <thead>\n",
       "    <tr style=\"text-align: right;\">\n",
       "      <th></th>\n",
       "      <th>difficulty</th>\n",
       "      <th>duration</th>\n",
       "      <th>offer_id</th>\n",
       "      <th>reward</th>\n",
       "      <th>bogo</th>\n",
       "      <th>discount</th>\n",
       "      <th>informational</th>\n",
       "      <th>email</th>\n",
       "      <th>mobile</th>\n",
       "      <th>social</th>\n",
       "      <th>web</th>\n",
       "    </tr>\n",
       "  </thead>\n",
       "  <tbody>\n",
       "    <tr>\n",
       "      <th>0</th>\n",
       "      <td>10</td>\n",
       "      <td>7</td>\n",
       "      <td>ae264e3637204a6fb9bb56bc8210ddfd</td>\n",
       "      <td>10</td>\n",
       "      <td>1</td>\n",
       "      <td>0</td>\n",
       "      <td>0</td>\n",
       "      <td>1</td>\n",
       "      <td>1</td>\n",
       "      <td>1</td>\n",
       "      <td>0</td>\n",
       "    </tr>\n",
       "    <tr>\n",
       "      <th>1</th>\n",
       "      <td>10</td>\n",
       "      <td>5</td>\n",
       "      <td>4d5c57ea9a6940dd891ad53e9dbe8da0</td>\n",
       "      <td>10</td>\n",
       "      <td>1</td>\n",
       "      <td>0</td>\n",
       "      <td>0</td>\n",
       "      <td>1</td>\n",
       "      <td>1</td>\n",
       "      <td>1</td>\n",
       "      <td>1</td>\n",
       "    </tr>\n",
       "    <tr>\n",
       "      <th>2</th>\n",
       "      <td>0</td>\n",
       "      <td>4</td>\n",
       "      <td>3f207df678b143eea3cee63160fa8bed</td>\n",
       "      <td>0</td>\n",
       "      <td>0</td>\n",
       "      <td>0</td>\n",
       "      <td>1</td>\n",
       "      <td>1</td>\n",
       "      <td>1</td>\n",
       "      <td>0</td>\n",
       "      <td>1</td>\n",
       "    </tr>\n",
       "    <tr>\n",
       "      <th>3</th>\n",
       "      <td>5</td>\n",
       "      <td>7</td>\n",
       "      <td>9b98b8c7a33c4b65b9aebfe6a799e6d9</td>\n",
       "      <td>5</td>\n",
       "      <td>1</td>\n",
       "      <td>0</td>\n",
       "      <td>0</td>\n",
       "      <td>1</td>\n",
       "      <td>1</td>\n",
       "      <td>0</td>\n",
       "      <td>1</td>\n",
       "    </tr>\n",
       "    <tr>\n",
       "      <th>4</th>\n",
       "      <td>20</td>\n",
       "      <td>10</td>\n",
       "      <td>0b1e1539f2cc45b7b9fa7c272da2e1d7</td>\n",
       "      <td>5</td>\n",
       "      <td>0</td>\n",
       "      <td>1</td>\n",
       "      <td>0</td>\n",
       "      <td>1</td>\n",
       "      <td>0</td>\n",
       "      <td>0</td>\n",
       "      <td>1</td>\n",
       "    </tr>\n",
       "  </tbody>\n",
       "</table>\n",
       "</div>"
      ],
      "text/plain": [
       "   difficulty  duration                          offer_id  reward  bogo  \\\n",
       "0          10         7  ae264e3637204a6fb9bb56bc8210ddfd      10     1   \n",
       "1          10         5  4d5c57ea9a6940dd891ad53e9dbe8da0      10     1   \n",
       "2           0         4  3f207df678b143eea3cee63160fa8bed       0     0   \n",
       "3           5         7  9b98b8c7a33c4b65b9aebfe6a799e6d9       5     1   \n",
       "4          20        10  0b1e1539f2cc45b7b9fa7c272da2e1d7       5     0   \n",
       "\n",
       "   discount  informational  email  mobile  social  web  \n",
       "0         0              0      1       1       1    0  \n",
       "1         0              0      1       1       1    1  \n",
       "2         0              1      1       1       0    1  \n",
       "3         0              0      1       1       0    1  \n",
       "4         1              0      1       0       0    1  "
      ]
     },
     "execution_count": 161,
     "metadata": {},
     "output_type": "execute_result"
    }
   ],
   "source": [
    "df_portfolio.head()"
   ]
  },
  {
   "cell_type": "markdown",
   "id": "d0bda385",
   "metadata": {},
   "source": [
    "### Cleaning the Profile data\n",
    "\n",
    "For the profile dataframe, it would be best to change the became_member_on column to a proper datetime format, and to replace None the none values in the whole dataframe.\n",
    "\n",
    "Also, let's create age groups and income classes for the age and income columns."
   ]
  },
  {
   "cell_type": "code",
   "execution_count": 162,
   "id": "3065621e",
   "metadata": {},
   "outputs": [
    {
     "data": {
      "text/html": [
       "<div>\n",
       "<style scoped>\n",
       "    .dataframe tbody tr th:only-of-type {\n",
       "        vertical-align: middle;\n",
       "    }\n",
       "\n",
       "    .dataframe tbody tr th {\n",
       "        vertical-align: top;\n",
       "    }\n",
       "\n",
       "    .dataframe thead th {\n",
       "        text-align: right;\n",
       "    }\n",
       "</style>\n",
       "<table border=\"1\" class=\"dataframe\">\n",
       "  <thead>\n",
       "    <tr style=\"text-align: right;\">\n",
       "      <th></th>\n",
       "      <th>age</th>\n",
       "      <th>became_member_on</th>\n",
       "      <th>gender</th>\n",
       "      <th>id</th>\n",
       "      <th>income</th>\n",
       "    </tr>\n",
       "  </thead>\n",
       "  <tbody>\n",
       "    <tr>\n",
       "      <th>0</th>\n",
       "      <td>118</td>\n",
       "      <td>20170212</td>\n",
       "      <td>None</td>\n",
       "      <td>68be06ca386d4c31939f3a4f0e3dd783</td>\n",
       "      <td>NaN</td>\n",
       "    </tr>\n",
       "    <tr>\n",
       "      <th>1</th>\n",
       "      <td>55</td>\n",
       "      <td>20170715</td>\n",
       "      <td>F</td>\n",
       "      <td>0610b486422d4921ae7d2bf64640c50b</td>\n",
       "      <td>112000.0</td>\n",
       "    </tr>\n",
       "    <tr>\n",
       "      <th>2</th>\n",
       "      <td>118</td>\n",
       "      <td>20180712</td>\n",
       "      <td>None</td>\n",
       "      <td>38fe809add3b4fcf9315a9694bb96ff5</td>\n",
       "      <td>NaN</td>\n",
       "    </tr>\n",
       "    <tr>\n",
       "      <th>3</th>\n",
       "      <td>75</td>\n",
       "      <td>20170509</td>\n",
       "      <td>F</td>\n",
       "      <td>78afa995795e4d85b5d9ceeca43f5fef</td>\n",
       "      <td>100000.0</td>\n",
       "    </tr>\n",
       "    <tr>\n",
       "      <th>4</th>\n",
       "      <td>118</td>\n",
       "      <td>20170804</td>\n",
       "      <td>None</td>\n",
       "      <td>a03223e636434f42ac4c3df47e8bac43</td>\n",
       "      <td>NaN</td>\n",
       "    </tr>\n",
       "  </tbody>\n",
       "</table>\n",
       "</div>"
      ],
      "text/plain": [
       "   age  became_member_on gender                                id    income\n",
       "0  118          20170212   None  68be06ca386d4c31939f3a4f0e3dd783       NaN\n",
       "1   55          20170715      F  0610b486422d4921ae7d2bf64640c50b  112000.0\n",
       "2  118          20180712   None  38fe809add3b4fcf9315a9694bb96ff5       NaN\n",
       "3   75          20170509      F  78afa995795e4d85b5d9ceeca43f5fef  100000.0\n",
       "4  118          20170804   None  a03223e636434f42ac4c3df47e8bac43       NaN"
      ]
     },
     "execution_count": 162,
     "metadata": {},
     "output_type": "execute_result"
    }
   ],
   "source": [
    "profile.head()"
   ]
  },
  {
   "cell_type": "code",
   "execution_count": 163,
   "id": "065a70db",
   "metadata": {},
   "outputs": [
    {
     "data": {
      "text/plain": [
       "age                   int64\n",
       "became_member_on      int64\n",
       "gender               object\n",
       "id                   object\n",
       "income              float64\n",
       "dtype: object"
      ]
     },
     "execution_count": 163,
     "metadata": {},
     "output_type": "execute_result"
    }
   ],
   "source": [
    "profile.dtypes"
   ]
  },
  {
   "cell_type": "code",
   "execution_count": 164,
   "id": "b83e078b",
   "metadata": {},
   "outputs": [
    {
     "data": {
      "text/plain": [
       "age                    0\n",
       "became_member_on       0\n",
       "gender              2175\n",
       "id                     0\n",
       "income              2175\n",
       "dtype: int64"
      ]
     },
     "execution_count": 164,
     "metadata": {},
     "output_type": "execute_result"
    }
   ],
   "source": [
    "profile.isnull().sum()"
   ]
  },
  {
   "cell_type": "code",
   "execution_count": 165,
   "id": "3f94c121",
   "metadata": {},
   "outputs": [],
   "source": [
    "#profile[profile['age'] == 118].count()"
   ]
  },
  {
   "cell_type": "code",
   "execution_count": 166,
   "id": "eed43dfb",
   "metadata": {},
   "outputs": [
    {
     "data": {
      "text/plain": [
       "17000"
      ]
     },
     "execution_count": 166,
     "metadata": {},
     "output_type": "execute_result"
    }
   ],
   "source": [
    "len(profile)"
   ]
  },
  {
   "cell_type": "code",
   "execution_count": 167,
   "id": "040c2f24",
   "metadata": {},
   "outputs": [],
   "source": [
    "profile_df = profile.copy()"
   ]
  },
  {
   "cell_type": "code",
   "execution_count": 168,
   "id": "7a860be6",
   "metadata": {},
   "outputs": [
    {
     "data": {
      "text/html": [
       "<div>\n",
       "<style scoped>\n",
       "    .dataframe tbody tr th:only-of-type {\n",
       "        vertical-align: middle;\n",
       "    }\n",
       "\n",
       "    .dataframe tbody tr th {\n",
       "        vertical-align: top;\n",
       "    }\n",
       "\n",
       "    .dataframe thead th {\n",
       "        text-align: right;\n",
       "    }\n",
       "</style>\n",
       "<table border=\"1\" class=\"dataframe\">\n",
       "  <thead>\n",
       "    <tr style=\"text-align: right;\">\n",
       "      <th></th>\n",
       "      <th>age</th>\n",
       "      <th>became_member_on</th>\n",
       "      <th>gender</th>\n",
       "      <th>id</th>\n",
       "      <th>income</th>\n",
       "    </tr>\n",
       "  </thead>\n",
       "  <tbody>\n",
       "    <tr>\n",
       "      <th>0</th>\n",
       "      <td>118</td>\n",
       "      <td>20170212</td>\n",
       "      <td>None</td>\n",
       "      <td>68be06ca386d4c31939f3a4f0e3dd783</td>\n",
       "      <td>NaN</td>\n",
       "    </tr>\n",
       "    <tr>\n",
       "      <th>1</th>\n",
       "      <td>55</td>\n",
       "      <td>20170715</td>\n",
       "      <td>F</td>\n",
       "      <td>0610b486422d4921ae7d2bf64640c50b</td>\n",
       "      <td>112000.0</td>\n",
       "    </tr>\n",
       "    <tr>\n",
       "      <th>2</th>\n",
       "      <td>118</td>\n",
       "      <td>20180712</td>\n",
       "      <td>None</td>\n",
       "      <td>38fe809add3b4fcf9315a9694bb96ff5</td>\n",
       "      <td>NaN</td>\n",
       "    </tr>\n",
       "    <tr>\n",
       "      <th>3</th>\n",
       "      <td>75</td>\n",
       "      <td>20170509</td>\n",
       "      <td>F</td>\n",
       "      <td>78afa995795e4d85b5d9ceeca43f5fef</td>\n",
       "      <td>100000.0</td>\n",
       "    </tr>\n",
       "    <tr>\n",
       "      <th>4</th>\n",
       "      <td>118</td>\n",
       "      <td>20170804</td>\n",
       "      <td>None</td>\n",
       "      <td>a03223e636434f42ac4c3df47e8bac43</td>\n",
       "      <td>NaN</td>\n",
       "    </tr>\n",
       "  </tbody>\n",
       "</table>\n",
       "</div>"
      ],
      "text/plain": [
       "   age  became_member_on gender                                id    income\n",
       "0  118          20170212   None  68be06ca386d4c31939f3a4f0e3dd783       NaN\n",
       "1   55          20170715      F  0610b486422d4921ae7d2bf64640c50b  112000.0\n",
       "2  118          20180712   None  38fe809add3b4fcf9315a9694bb96ff5       NaN\n",
       "3   75          20170509      F  78afa995795e4d85b5d9ceeca43f5fef  100000.0\n",
       "4  118          20170804   None  a03223e636434f42ac4c3df47e8bac43       NaN"
      ]
     },
     "execution_count": 168,
     "metadata": {},
     "output_type": "execute_result"
    }
   ],
   "source": [
    "profile_df.head()"
   ]
  },
  {
   "cell_type": "code",
   "execution_count": 169,
   "id": "6c50e9ba",
   "metadata": {},
   "outputs": [],
   "source": [
    "#https://stackoverflow.com/questions/49382207/how-to-map-numeric-data-into-categories-bins-in-pandas-dataframe\n",
    "bins = [17, 30, 55, 75, np.inf]\n",
    "names = ['Young_Adult', 'Adult', 'Senior', 'Old']"
   ]
  },
  {
   "cell_type": "code",
   "execution_count": 170,
   "id": "0d031471",
   "metadata": {
    "scrolled": true
   },
   "outputs": [],
   "source": [
    "profile_df['age_class'] = pd.cut(profile_df['age'], bins, labels=names)"
   ]
  },
  {
   "cell_type": "code",
   "execution_count": 171,
   "id": "e72649e7",
   "metadata": {},
   "outputs": [],
   "source": [
    "bins = [29000.00, 49000.00, 79000.00, 89000.00, np.inf]\n",
    "names = ['Lower', 'Average', 'Above_Avg', 'Upper']"
   ]
  },
  {
   "cell_type": "code",
   "execution_count": 172,
   "id": "39423f91",
   "metadata": {},
   "outputs": [],
   "source": [
    "profile_df['income_class'] = pd.cut(profile_df['income'], bins, labels=names)"
   ]
  },
  {
   "cell_type": "code",
   "execution_count": 173,
   "id": "5c3e5ce0",
   "metadata": {},
   "outputs": [
    {
     "data": {
      "text/html": [
       "<div>\n",
       "<style scoped>\n",
       "    .dataframe tbody tr th:only-of-type {\n",
       "        vertical-align: middle;\n",
       "    }\n",
       "\n",
       "    .dataframe tbody tr th {\n",
       "        vertical-align: top;\n",
       "    }\n",
       "\n",
       "    .dataframe thead th {\n",
       "        text-align: right;\n",
       "    }\n",
       "</style>\n",
       "<table border=\"1\" class=\"dataframe\">\n",
       "  <thead>\n",
       "    <tr style=\"text-align: right;\">\n",
       "      <th></th>\n",
       "      <th>age</th>\n",
       "      <th>became_member_on</th>\n",
       "      <th>gender</th>\n",
       "      <th>id</th>\n",
       "      <th>income</th>\n",
       "      <th>age_class</th>\n",
       "      <th>income_class</th>\n",
       "    </tr>\n",
       "  </thead>\n",
       "  <tbody>\n",
       "    <tr>\n",
       "      <th>0</th>\n",
       "      <td>118</td>\n",
       "      <td>20170212</td>\n",
       "      <td>None</td>\n",
       "      <td>68be06ca386d4c31939f3a4f0e3dd783</td>\n",
       "      <td>NaN</td>\n",
       "      <td>Old</td>\n",
       "      <td>NaN</td>\n",
       "    </tr>\n",
       "    <tr>\n",
       "      <th>1</th>\n",
       "      <td>55</td>\n",
       "      <td>20170715</td>\n",
       "      <td>F</td>\n",
       "      <td>0610b486422d4921ae7d2bf64640c50b</td>\n",
       "      <td>112000.0</td>\n",
       "      <td>Adult</td>\n",
       "      <td>Upper</td>\n",
       "    </tr>\n",
       "    <tr>\n",
       "      <th>2</th>\n",
       "      <td>118</td>\n",
       "      <td>20180712</td>\n",
       "      <td>None</td>\n",
       "      <td>38fe809add3b4fcf9315a9694bb96ff5</td>\n",
       "      <td>NaN</td>\n",
       "      <td>Old</td>\n",
       "      <td>NaN</td>\n",
       "    </tr>\n",
       "    <tr>\n",
       "      <th>3</th>\n",
       "      <td>75</td>\n",
       "      <td>20170509</td>\n",
       "      <td>F</td>\n",
       "      <td>78afa995795e4d85b5d9ceeca43f5fef</td>\n",
       "      <td>100000.0</td>\n",
       "      <td>Senior</td>\n",
       "      <td>Upper</td>\n",
       "    </tr>\n",
       "    <tr>\n",
       "      <th>4</th>\n",
       "      <td>118</td>\n",
       "      <td>20170804</td>\n",
       "      <td>None</td>\n",
       "      <td>a03223e636434f42ac4c3df47e8bac43</td>\n",
       "      <td>NaN</td>\n",
       "      <td>Old</td>\n",
       "      <td>NaN</td>\n",
       "    </tr>\n",
       "  </tbody>\n",
       "</table>\n",
       "</div>"
      ],
      "text/plain": [
       "   age  became_member_on gender                                id    income  \\\n",
       "0  118          20170212   None  68be06ca386d4c31939f3a4f0e3dd783       NaN   \n",
       "1   55          20170715      F  0610b486422d4921ae7d2bf64640c50b  112000.0   \n",
       "2  118          20180712   None  38fe809add3b4fcf9315a9694bb96ff5       NaN   \n",
       "3   75          20170509      F  78afa995795e4d85b5d9ceeca43f5fef  100000.0   \n",
       "4  118          20170804   None  a03223e636434f42ac4c3df47e8bac43       NaN   \n",
       "\n",
       "  age_class income_class  \n",
       "0       Old          NaN  \n",
       "1     Adult        Upper  \n",
       "2       Old          NaN  \n",
       "3    Senior        Upper  \n",
       "4       Old          NaN  "
      ]
     },
     "execution_count": 173,
     "metadata": {},
     "output_type": "execute_result"
    }
   ],
   "source": [
    "profile_df.head()"
   ]
  },
  {
   "cell_type": "markdown",
   "id": "246e0319",
   "metadata": {},
   "source": [
    "Let's change the date formatting. Then create a year-month coloumn from the *became_member_on* column"
   ]
  },
  {
   "cell_type": "code",
   "execution_count": 174,
   "id": "99814bcc",
   "metadata": {},
   "outputs": [],
   "source": [
    "profile_df[[\"became_member_on\"]] = profile_df[[\"became_member_on\"]].apply(pd.to_datetime, format = '%Y%m%d')"
   ]
  },
  {
   "cell_type": "code",
   "execution_count": 175,
   "id": "bb2c448c",
   "metadata": {},
   "outputs": [
    {
     "data": {
      "text/html": [
       "<div>\n",
       "<style scoped>\n",
       "    .dataframe tbody tr th:only-of-type {\n",
       "        vertical-align: middle;\n",
       "    }\n",
       "\n",
       "    .dataframe tbody tr th {\n",
       "        vertical-align: top;\n",
       "    }\n",
       "\n",
       "    .dataframe thead th {\n",
       "        text-align: right;\n",
       "    }\n",
       "</style>\n",
       "<table border=\"1\" class=\"dataframe\">\n",
       "  <thead>\n",
       "    <tr style=\"text-align: right;\">\n",
       "      <th></th>\n",
       "      <th>age</th>\n",
       "      <th>became_member_on</th>\n",
       "      <th>gender</th>\n",
       "      <th>id</th>\n",
       "      <th>income</th>\n",
       "      <th>age_class</th>\n",
       "      <th>income_class</th>\n",
       "    </tr>\n",
       "  </thead>\n",
       "  <tbody>\n",
       "    <tr>\n",
       "      <th>0</th>\n",
       "      <td>118</td>\n",
       "      <td>2017-02-12</td>\n",
       "      <td>None</td>\n",
       "      <td>68be06ca386d4c31939f3a4f0e3dd783</td>\n",
       "      <td>NaN</td>\n",
       "      <td>Old</td>\n",
       "      <td>NaN</td>\n",
       "    </tr>\n",
       "    <tr>\n",
       "      <th>1</th>\n",
       "      <td>55</td>\n",
       "      <td>2017-07-15</td>\n",
       "      <td>F</td>\n",
       "      <td>0610b486422d4921ae7d2bf64640c50b</td>\n",
       "      <td>112000.0</td>\n",
       "      <td>Adult</td>\n",
       "      <td>Upper</td>\n",
       "    </tr>\n",
       "    <tr>\n",
       "      <th>2</th>\n",
       "      <td>118</td>\n",
       "      <td>2018-07-12</td>\n",
       "      <td>None</td>\n",
       "      <td>38fe809add3b4fcf9315a9694bb96ff5</td>\n",
       "      <td>NaN</td>\n",
       "      <td>Old</td>\n",
       "      <td>NaN</td>\n",
       "    </tr>\n",
       "    <tr>\n",
       "      <th>3</th>\n",
       "      <td>75</td>\n",
       "      <td>2017-05-09</td>\n",
       "      <td>F</td>\n",
       "      <td>78afa995795e4d85b5d9ceeca43f5fef</td>\n",
       "      <td>100000.0</td>\n",
       "      <td>Senior</td>\n",
       "      <td>Upper</td>\n",
       "    </tr>\n",
       "    <tr>\n",
       "      <th>4</th>\n",
       "      <td>118</td>\n",
       "      <td>2017-08-04</td>\n",
       "      <td>None</td>\n",
       "      <td>a03223e636434f42ac4c3df47e8bac43</td>\n",
       "      <td>NaN</td>\n",
       "      <td>Old</td>\n",
       "      <td>NaN</td>\n",
       "    </tr>\n",
       "  </tbody>\n",
       "</table>\n",
       "</div>"
      ],
      "text/plain": [
       "   age became_member_on gender                                id    income  \\\n",
       "0  118       2017-02-12   None  68be06ca386d4c31939f3a4f0e3dd783       NaN   \n",
       "1   55       2017-07-15      F  0610b486422d4921ae7d2bf64640c50b  112000.0   \n",
       "2  118       2018-07-12   None  38fe809add3b4fcf9315a9694bb96ff5       NaN   \n",
       "3   75       2017-05-09      F  78afa995795e4d85b5d9ceeca43f5fef  100000.0   \n",
       "4  118       2017-08-04   None  a03223e636434f42ac4c3df47e8bac43       NaN   \n",
       "\n",
       "  age_class income_class  \n",
       "0       Old          NaN  \n",
       "1     Adult        Upper  \n",
       "2       Old          NaN  \n",
       "3    Senior        Upper  \n",
       "4       Old          NaN  "
      ]
     },
     "execution_count": 175,
     "metadata": {},
     "output_type": "execute_result"
    }
   ],
   "source": [
    "profile_df.head()"
   ]
  },
  {
   "cell_type": "code",
   "execution_count": 176,
   "id": "198453e4",
   "metadata": {},
   "outputs": [],
   "source": [
    "#new_member_on = profile_df['became_member_on'].apply(to_datetime)"
   ]
  },
  {
   "cell_type": "code",
   "execution_count": 177,
   "id": "ac319549",
   "metadata": {
    "scrolled": true
   },
   "outputs": [],
   "source": [
    "#profile_df = profile_df.drop(['became_member_on'], axis=1)\n",
    "#profile_df['became_member_on'] = new_member_on"
   ]
  },
  {
   "cell_type": "code",
   "execution_count": 178,
   "id": "667a36f6",
   "metadata": {},
   "outputs": [],
   "source": [
    "profile_df[\"member_year\"] = profile_df['became_member_on'].dt.strftime(\"%Y\")\n",
    "profile_df[\"member_month\"] = profile_df['became_member_on'].dt.strftime(\"%m\")\n",
    "profile_df[\"member_year_month\"] = profile_df['became_member_on'].dt.strftime(\"%Y-%m\")"
   ]
  },
  {
   "cell_type": "code",
   "execution_count": 179,
   "id": "5310a588",
   "metadata": {},
   "outputs": [],
   "source": [
    "profile_df = profile_df[profile_df['income'].notnull()]"
   ]
  },
  {
   "cell_type": "code",
   "execution_count": 180,
   "id": "8fb81cd9",
   "metadata": {},
   "outputs": [
    {
     "data": {
      "text/html": [
       "<div>\n",
       "<style scoped>\n",
       "    .dataframe tbody tr th:only-of-type {\n",
       "        vertical-align: middle;\n",
       "    }\n",
       "\n",
       "    .dataframe tbody tr th {\n",
       "        vertical-align: top;\n",
       "    }\n",
       "\n",
       "    .dataframe thead th {\n",
       "        text-align: right;\n",
       "    }\n",
       "</style>\n",
       "<table border=\"1\" class=\"dataframe\">\n",
       "  <thead>\n",
       "    <tr style=\"text-align: right;\">\n",
       "      <th></th>\n",
       "      <th>age</th>\n",
       "      <th>became_member_on</th>\n",
       "      <th>gender</th>\n",
       "      <th>id</th>\n",
       "      <th>income</th>\n",
       "      <th>age_class</th>\n",
       "      <th>income_class</th>\n",
       "      <th>member_year</th>\n",
       "      <th>member_month</th>\n",
       "      <th>member_year_month</th>\n",
       "    </tr>\n",
       "  </thead>\n",
       "  <tbody>\n",
       "    <tr>\n",
       "      <th>1</th>\n",
       "      <td>55</td>\n",
       "      <td>2017-07-15</td>\n",
       "      <td>F</td>\n",
       "      <td>0610b486422d4921ae7d2bf64640c50b</td>\n",
       "      <td>112000.0</td>\n",
       "      <td>Adult</td>\n",
       "      <td>Upper</td>\n",
       "      <td>2017</td>\n",
       "      <td>07</td>\n",
       "      <td>2017-07</td>\n",
       "    </tr>\n",
       "    <tr>\n",
       "      <th>3</th>\n",
       "      <td>75</td>\n",
       "      <td>2017-05-09</td>\n",
       "      <td>F</td>\n",
       "      <td>78afa995795e4d85b5d9ceeca43f5fef</td>\n",
       "      <td>100000.0</td>\n",
       "      <td>Senior</td>\n",
       "      <td>Upper</td>\n",
       "      <td>2017</td>\n",
       "      <td>05</td>\n",
       "      <td>2017-05</td>\n",
       "    </tr>\n",
       "    <tr>\n",
       "      <th>5</th>\n",
       "      <td>68</td>\n",
       "      <td>2018-04-26</td>\n",
       "      <td>M</td>\n",
       "      <td>e2127556f4f64592b11af22de27a7932</td>\n",
       "      <td>70000.0</td>\n",
       "      <td>Senior</td>\n",
       "      <td>Average</td>\n",
       "      <td>2018</td>\n",
       "      <td>04</td>\n",
       "      <td>2018-04</td>\n",
       "    </tr>\n",
       "    <tr>\n",
       "      <th>8</th>\n",
       "      <td>65</td>\n",
       "      <td>2018-02-09</td>\n",
       "      <td>M</td>\n",
       "      <td>389bc3fa690240e798340f5a15918d5c</td>\n",
       "      <td>53000.0</td>\n",
       "      <td>Senior</td>\n",
       "      <td>Average</td>\n",
       "      <td>2018</td>\n",
       "      <td>02</td>\n",
       "      <td>2018-02</td>\n",
       "    </tr>\n",
       "    <tr>\n",
       "      <th>12</th>\n",
       "      <td>58</td>\n",
       "      <td>2017-11-11</td>\n",
       "      <td>M</td>\n",
       "      <td>2eeac8d8feae4a8cad5a6af0499a211d</td>\n",
       "      <td>51000.0</td>\n",
       "      <td>Senior</td>\n",
       "      <td>Average</td>\n",
       "      <td>2017</td>\n",
       "      <td>11</td>\n",
       "      <td>2017-11</td>\n",
       "    </tr>\n",
       "  </tbody>\n",
       "</table>\n",
       "</div>"
      ],
      "text/plain": [
       "    age became_member_on gender                                id    income  \\\n",
       "1    55       2017-07-15      F  0610b486422d4921ae7d2bf64640c50b  112000.0   \n",
       "3    75       2017-05-09      F  78afa995795e4d85b5d9ceeca43f5fef  100000.0   \n",
       "5    68       2018-04-26      M  e2127556f4f64592b11af22de27a7932   70000.0   \n",
       "8    65       2018-02-09      M  389bc3fa690240e798340f5a15918d5c   53000.0   \n",
       "12   58       2017-11-11      M  2eeac8d8feae4a8cad5a6af0499a211d   51000.0   \n",
       "\n",
       "   age_class income_class member_year member_month member_year_month  \n",
       "1      Adult        Upper        2017           07           2017-07  \n",
       "3     Senior        Upper        2017           05           2017-05  \n",
       "5     Senior      Average        2018           04           2018-04  \n",
       "8     Senior      Average        2018           02           2018-02  \n",
       "12    Senior      Average        2017           11           2017-11  "
      ]
     },
     "execution_count": 180,
     "metadata": {},
     "output_type": "execute_result"
    }
   ],
   "source": [
    "profile_df.head()"
   ]
  },
  {
   "cell_type": "code",
   "execution_count": 181,
   "id": "d4eb3357",
   "metadata": {},
   "outputs": [
    {
     "data": {
      "text/plain": [
       "M    8484\n",
       "F    6129\n",
       "O     212\n",
       "Name: gender, dtype: int64"
      ]
     },
     "execution_count": 181,
     "metadata": {},
     "output_type": "execute_result"
    }
   ],
   "source": [
    "profile_df.gender.value_counts()"
   ]
  },
  {
   "cell_type": "code",
   "execution_count": 182,
   "id": "2600fbcb",
   "metadata": {},
   "outputs": [
    {
     "data": {
      "text/plain": [
       "14825"
      ]
     },
     "execution_count": 182,
     "metadata": {},
     "output_type": "execute_result"
    }
   ],
   "source": [
    "len(profile_df)"
   ]
  },
  {
   "cell_type": "markdown",
   "id": "eb45f425",
   "metadata": {},
   "source": [
    "### Cleaning the Transcript Data\n",
    "\n",
    "For the transcript data, we will remove customer ids that are not present in the profile dataframe. We will also convert the time column from hours to days. This will be useful later when we are trying to decide whether or not an offer is successful or not.\n",
    "\n",
    "We will then split the data into two dataframes: offers and transactions."
   ]
  },
  {
   "cell_type": "code",
   "execution_count": 183,
   "id": "8e42f92e",
   "metadata": {},
   "outputs": [],
   "source": [
    "transcript_df = transcript.copy()"
   ]
  },
  {
   "cell_type": "code",
   "execution_count": 184,
   "id": "29b85ab1",
   "metadata": {},
   "outputs": [
    {
     "data": {
      "text/plain": [
       "306534"
      ]
     },
     "execution_count": 184,
     "metadata": {},
     "output_type": "execute_result"
    }
   ],
   "source": [
    "len(transcript_df)"
   ]
  },
  {
   "cell_type": "code",
   "execution_count": 185,
   "id": "160943ea",
   "metadata": {},
   "outputs": [],
   "source": [
    "transcript_df = transcript_df.rename(columns = {'person': 'id'})"
   ]
  },
  {
   "cell_type": "markdown",
   "id": "958b1f85",
   "metadata": {},
   "source": [
    "#### Remove customer ids in the transcript that are not present in the profile"
   ]
  },
  {
   "cell_type": "code",
   "execution_count": 186,
   "id": "e63ce860",
   "metadata": {},
   "outputs": [],
   "source": [
    "common_ids = transcript_df['id'].isin(profile_df['id'])\n",
    "transcript_df = transcript_df[common_ids]"
   ]
  },
  {
   "cell_type": "code",
   "execution_count": 187,
   "id": "6c4c5096",
   "metadata": {},
   "outputs": [
    {
     "name": "stdout",
     "output_type": "stream",
     "text": [
      "Percentage of transactions removed: 11.02 %\n"
     ]
    }
   ],
   "source": [
    "percent_removed = 100 * (1 - common_ids.sum() / common_ids.shape[0])\n",
    "print(\"Percentage of transactions removed: %.2f %%\" % percent_removed)"
   ]
  },
  {
   "cell_type": "code",
   "execution_count": 188,
   "id": "b350e975",
   "metadata": {},
   "outputs": [],
   "source": [
    "#convert hours to days in the time column\n",
    "my_int = 24.0\n",
    "transcript_df['time'] = [x / my_int for x in transcript_df['time']]"
   ]
  },
  {
   "cell_type": "code",
   "execution_count": 189,
   "id": "676bd68b",
   "metadata": {},
   "outputs": [],
   "source": [
    "#transcript['time']"
   ]
  },
  {
   "cell_type": "code",
   "execution_count": 190,
   "id": "5f2df3d3",
   "metadata": {},
   "outputs": [
    {
     "data": {
      "text/plain": [
       "272762"
      ]
     },
     "execution_count": 190,
     "metadata": {},
     "output_type": "execute_result"
    }
   ],
   "source": [
    "len(transcript_df)"
   ]
  },
  {
   "cell_type": "markdown",
   "id": "4cc1fe3e",
   "metadata": {},
   "source": [
    "#### Split into offer and transaction data"
   ]
  },
  {
   "cell_type": "code",
   "execution_count": 191,
   "id": "fe94f1ec",
   "metadata": {},
   "outputs": [],
   "source": [
    "offers = transcript_df[transcript_df['event']  != 'transaction']\n",
    "\n",
    "transaction = transcript_df[transcript_df['event']  == 'transaction']"
   ]
  },
  {
   "cell_type": "code",
   "execution_count": 192,
   "id": "3584e0dc",
   "metadata": {},
   "outputs": [
    {
     "name": "stderr",
     "output_type": "stream",
     "text": [
      "/opt/conda/lib/python3.6/site-packages/ipykernel_launcher.py:3: SettingWithCopyWarning: \n",
      "A value is trying to be set on a copy of a slice from a DataFrame.\n",
      "Try using .loc[row_indexer,col_indexer] = value instead\n",
      "\n",
      "See the caveats in the documentation: http://pandas.pydata.org/pandas-docs/stable/indexing.html#indexing-view-versus-copy\n",
      "  This is separate from the ipykernel package so we can avoid doing imports until\n"
     ]
    }
   ],
   "source": [
    "offers['offer_id'] = [[*i.values()][0] if [*i.keys()][0] in ['offer id',\n",
    "                                        'value'] else None\n",
    "                                        for i in offers.value]"
   ]
  },
  {
   "cell_type": "code",
   "execution_count": 193,
   "id": "fd93dd1e",
   "metadata": {},
   "outputs": [
    {
     "name": "stderr",
     "output_type": "stream",
     "text": [
      "/opt/conda/lib/python3.6/site-packages/ipykernel_launcher.py:3: SettingWithCopyWarning: \n",
      "A value is trying to be set on a copy of a slice from a DataFrame.\n",
      "Try using .loc[row_indexer,col_indexer] = value instead\n",
      "\n",
      "See the caveats in the documentation: http://pandas.pydata.org/pandas-docs/stable/indexing.html#indexing-view-versus-copy\n",
      "  This is separate from the ipykernel package so we can avoid doing imports until\n"
     ]
    }
   ],
   "source": [
    "transaction['amount_spent'] = [[*i.values()][0] if [*i.keys()][0] in ['amount',\n",
    "                                        'value'] else None\n",
    "                                        for i in transaction.value]"
   ]
  },
  {
   "cell_type": "code",
   "execution_count": 194,
   "id": "23dc338f",
   "metadata": {
    "scrolled": false
   },
   "outputs": [
    {
     "data": {
      "text/html": [
       "<div>\n",
       "<style scoped>\n",
       "    .dataframe tbody tr th:only-of-type {\n",
       "        vertical-align: middle;\n",
       "    }\n",
       "\n",
       "    .dataframe tbody tr th {\n",
       "        vertical-align: top;\n",
       "    }\n",
       "\n",
       "    .dataframe thead th {\n",
       "        text-align: right;\n",
       "    }\n",
       "</style>\n",
       "<table border=\"1\" class=\"dataframe\">\n",
       "  <thead>\n",
       "    <tr style=\"text-align: right;\">\n",
       "      <th></th>\n",
       "      <th>event</th>\n",
       "      <th>id</th>\n",
       "      <th>time</th>\n",
       "      <th>value</th>\n",
       "      <th>offer_id</th>\n",
       "    </tr>\n",
       "  </thead>\n",
       "  <tbody>\n",
       "    <tr>\n",
       "      <th>0</th>\n",
       "      <td>offer received</td>\n",
       "      <td>78afa995795e4d85b5d9ceeca43f5fef</td>\n",
       "      <td>0.0</td>\n",
       "      <td>{'offer id': '9b98b8c7a33c4b65b9aebfe6a799e6d9'}</td>\n",
       "      <td>9b98b8c7a33c4b65b9aebfe6a799e6d9</td>\n",
       "    </tr>\n",
       "    <tr>\n",
       "      <th>2</th>\n",
       "      <td>offer received</td>\n",
       "      <td>e2127556f4f64592b11af22de27a7932</td>\n",
       "      <td>0.0</td>\n",
       "      <td>{'offer id': '2906b810c7d4411798c6938adc9daaa5'}</td>\n",
       "      <td>2906b810c7d4411798c6938adc9daaa5</td>\n",
       "    </tr>\n",
       "    <tr>\n",
       "      <th>5</th>\n",
       "      <td>offer received</td>\n",
       "      <td>389bc3fa690240e798340f5a15918d5c</td>\n",
       "      <td>0.0</td>\n",
       "      <td>{'offer id': 'f19421c1d4aa40978ebb69ca19b0e20d'}</td>\n",
       "      <td>f19421c1d4aa40978ebb69ca19b0e20d</td>\n",
       "    </tr>\n",
       "    <tr>\n",
       "      <th>7</th>\n",
       "      <td>offer received</td>\n",
       "      <td>2eeac8d8feae4a8cad5a6af0499a211d</td>\n",
       "      <td>0.0</td>\n",
       "      <td>{'offer id': '3f207df678b143eea3cee63160fa8bed'}</td>\n",
       "      <td>3f207df678b143eea3cee63160fa8bed</td>\n",
       "    </tr>\n",
       "    <tr>\n",
       "      <th>8</th>\n",
       "      <td>offer received</td>\n",
       "      <td>aa4862eba776480b8bb9c68455b8c2e1</td>\n",
       "      <td>0.0</td>\n",
       "      <td>{'offer id': '0b1e1539f2cc45b7b9fa7c272da2e1d7'}</td>\n",
       "      <td>0b1e1539f2cc45b7b9fa7c272da2e1d7</td>\n",
       "    </tr>\n",
       "  </tbody>\n",
       "</table>\n",
       "</div>"
      ],
      "text/plain": [
       "            event                                id  time  \\\n",
       "0  offer received  78afa995795e4d85b5d9ceeca43f5fef   0.0   \n",
       "2  offer received  e2127556f4f64592b11af22de27a7932   0.0   \n",
       "5  offer received  389bc3fa690240e798340f5a15918d5c   0.0   \n",
       "7  offer received  2eeac8d8feae4a8cad5a6af0499a211d   0.0   \n",
       "8  offer received  aa4862eba776480b8bb9c68455b8c2e1   0.0   \n",
       "\n",
       "                                              value  \\\n",
       "0  {'offer id': '9b98b8c7a33c4b65b9aebfe6a799e6d9'}   \n",
       "2  {'offer id': '2906b810c7d4411798c6938adc9daaa5'}   \n",
       "5  {'offer id': 'f19421c1d4aa40978ebb69ca19b0e20d'}   \n",
       "7  {'offer id': '3f207df678b143eea3cee63160fa8bed'}   \n",
       "8  {'offer id': '0b1e1539f2cc45b7b9fa7c272da2e1d7'}   \n",
       "\n",
       "                           offer_id  \n",
       "0  9b98b8c7a33c4b65b9aebfe6a799e6d9  \n",
       "2  2906b810c7d4411798c6938adc9daaa5  \n",
       "5  f19421c1d4aa40978ebb69ca19b0e20d  \n",
       "7  3f207df678b143eea3cee63160fa8bed  \n",
       "8  0b1e1539f2cc45b7b9fa7c272da2e1d7  "
      ]
     },
     "execution_count": 194,
     "metadata": {},
     "output_type": "execute_result"
    }
   ],
   "source": [
    "offers.head()"
   ]
  },
  {
   "cell_type": "code",
   "execution_count": 195,
   "id": "95ce2f39",
   "metadata": {},
   "outputs": [
    {
     "data": {
      "text/plain": [
       "148805"
      ]
     },
     "execution_count": 195,
     "metadata": {},
     "output_type": "execute_result"
    }
   ],
   "source": [
    "len(offers)"
   ]
  },
  {
   "cell_type": "code",
   "execution_count": 196,
   "id": "908f5e79",
   "metadata": {},
   "outputs": [
    {
     "data": {
      "text/html": [
       "<div>\n",
       "<style scoped>\n",
       "    .dataframe tbody tr th:only-of-type {\n",
       "        vertical-align: middle;\n",
       "    }\n",
       "\n",
       "    .dataframe tbody tr th {\n",
       "        vertical-align: top;\n",
       "    }\n",
       "\n",
       "    .dataframe thead th {\n",
       "        text-align: right;\n",
       "    }\n",
       "</style>\n",
       "<table border=\"1\" class=\"dataframe\">\n",
       "  <thead>\n",
       "    <tr style=\"text-align: right;\">\n",
       "      <th></th>\n",
       "      <th>event</th>\n",
       "      <th>id</th>\n",
       "      <th>time</th>\n",
       "      <th>value</th>\n",
       "      <th>amount_spent</th>\n",
       "    </tr>\n",
       "  </thead>\n",
       "  <tbody>\n",
       "    <tr>\n",
       "      <th>12654</th>\n",
       "      <td>transaction</td>\n",
       "      <td>02c083884c7d45b39cc68e1314fec56c</td>\n",
       "      <td>0.0</td>\n",
       "      <td>{'amount': 0.8300000000000001}</td>\n",
       "      <td>0.83</td>\n",
       "    </tr>\n",
       "    <tr>\n",
       "      <th>12657</th>\n",
       "      <td>transaction</td>\n",
       "      <td>9fa9ae8f57894cc9a3b8a9bbe0fc1b2f</td>\n",
       "      <td>0.0</td>\n",
       "      <td>{'amount': 34.56}</td>\n",
       "      <td>34.56</td>\n",
       "    </tr>\n",
       "    <tr>\n",
       "      <th>12659</th>\n",
       "      <td>transaction</td>\n",
       "      <td>54890f68699049c2a04d415abc25e717</td>\n",
       "      <td>0.0</td>\n",
       "      <td>{'amount': 13.23}</td>\n",
       "      <td>13.23</td>\n",
       "    </tr>\n",
       "    <tr>\n",
       "      <th>12670</th>\n",
       "      <td>transaction</td>\n",
       "      <td>b2f1cd155b864803ad8334cdf13c4bd2</td>\n",
       "      <td>0.0</td>\n",
       "      <td>{'amount': 19.51}</td>\n",
       "      <td>19.51</td>\n",
       "    </tr>\n",
       "    <tr>\n",
       "      <th>12671</th>\n",
       "      <td>transaction</td>\n",
       "      <td>fe97aa22dd3e48c8b143116a8403dd52</td>\n",
       "      <td>0.0</td>\n",
       "      <td>{'amount': 18.97}</td>\n",
       "      <td>18.97</td>\n",
       "    </tr>\n",
       "  </tbody>\n",
       "</table>\n",
       "</div>"
      ],
      "text/plain": [
       "             event                                id  time  \\\n",
       "12654  transaction  02c083884c7d45b39cc68e1314fec56c   0.0   \n",
       "12657  transaction  9fa9ae8f57894cc9a3b8a9bbe0fc1b2f   0.0   \n",
       "12659  transaction  54890f68699049c2a04d415abc25e717   0.0   \n",
       "12670  transaction  b2f1cd155b864803ad8334cdf13c4bd2   0.0   \n",
       "12671  transaction  fe97aa22dd3e48c8b143116a8403dd52   0.0   \n",
       "\n",
       "                                value  amount_spent  \n",
       "12654  {'amount': 0.8300000000000001}          0.83  \n",
       "12657               {'amount': 34.56}         34.56  \n",
       "12659               {'amount': 13.23}         13.23  \n",
       "12670               {'amount': 19.51}         19.51  \n",
       "12671               {'amount': 18.97}         18.97  "
      ]
     },
     "execution_count": 196,
     "metadata": {},
     "output_type": "execute_result"
    }
   ],
   "source": [
    "transaction.head()"
   ]
  },
  {
   "cell_type": "code",
   "execution_count": 197,
   "id": "d7fd1d5c",
   "metadata": {},
   "outputs": [],
   "source": [
    "#transaction.time.value_counts()"
   ]
  },
  {
   "cell_type": "code",
   "execution_count": 198,
   "id": "bb2348bb",
   "metadata": {},
   "outputs": [
    {
     "data": {
      "text/plain": [
       "123957"
      ]
     },
     "execution_count": 198,
     "metadata": {},
     "output_type": "execute_result"
    }
   ],
   "source": [
    "len(transaction)"
   ]
  },
  {
   "cell_type": "markdown",
   "id": "199ed95b",
   "metadata": {},
   "source": [
    "### Portfolio Analysis"
   ]
  },
  {
   "cell_type": "code",
   "execution_count": 199,
   "id": "d5ee1ad1",
   "metadata": {},
   "outputs": [
    {
     "data": {
      "text/html": [
       "<div>\n",
       "<style scoped>\n",
       "    .dataframe tbody tr th:only-of-type {\n",
       "        vertical-align: middle;\n",
       "    }\n",
       "\n",
       "    .dataframe tbody tr th {\n",
       "        vertical-align: top;\n",
       "    }\n",
       "\n",
       "    .dataframe thead th {\n",
       "        text-align: right;\n",
       "    }\n",
       "</style>\n",
       "<table border=\"1\" class=\"dataframe\">\n",
       "  <thead>\n",
       "    <tr style=\"text-align: right;\">\n",
       "      <th></th>\n",
       "      <th>difficulty</th>\n",
       "      <th>duration</th>\n",
       "      <th>offer_id</th>\n",
       "      <th>reward</th>\n",
       "      <th>bogo</th>\n",
       "      <th>discount</th>\n",
       "      <th>informational</th>\n",
       "      <th>email</th>\n",
       "      <th>mobile</th>\n",
       "      <th>social</th>\n",
       "      <th>web</th>\n",
       "    </tr>\n",
       "  </thead>\n",
       "  <tbody>\n",
       "    <tr>\n",
       "      <th>0</th>\n",
       "      <td>10</td>\n",
       "      <td>7</td>\n",
       "      <td>ae264e3637204a6fb9bb56bc8210ddfd</td>\n",
       "      <td>10</td>\n",
       "      <td>1</td>\n",
       "      <td>0</td>\n",
       "      <td>0</td>\n",
       "      <td>1</td>\n",
       "      <td>1</td>\n",
       "      <td>1</td>\n",
       "      <td>0</td>\n",
       "    </tr>\n",
       "    <tr>\n",
       "      <th>1</th>\n",
       "      <td>10</td>\n",
       "      <td>5</td>\n",
       "      <td>4d5c57ea9a6940dd891ad53e9dbe8da0</td>\n",
       "      <td>10</td>\n",
       "      <td>1</td>\n",
       "      <td>0</td>\n",
       "      <td>0</td>\n",
       "      <td>1</td>\n",
       "      <td>1</td>\n",
       "      <td>1</td>\n",
       "      <td>1</td>\n",
       "    </tr>\n",
       "    <tr>\n",
       "      <th>2</th>\n",
       "      <td>0</td>\n",
       "      <td>4</td>\n",
       "      <td>3f207df678b143eea3cee63160fa8bed</td>\n",
       "      <td>0</td>\n",
       "      <td>0</td>\n",
       "      <td>0</td>\n",
       "      <td>1</td>\n",
       "      <td>1</td>\n",
       "      <td>1</td>\n",
       "      <td>0</td>\n",
       "      <td>1</td>\n",
       "    </tr>\n",
       "    <tr>\n",
       "      <th>3</th>\n",
       "      <td>5</td>\n",
       "      <td>7</td>\n",
       "      <td>9b98b8c7a33c4b65b9aebfe6a799e6d9</td>\n",
       "      <td>5</td>\n",
       "      <td>1</td>\n",
       "      <td>0</td>\n",
       "      <td>0</td>\n",
       "      <td>1</td>\n",
       "      <td>1</td>\n",
       "      <td>0</td>\n",
       "      <td>1</td>\n",
       "    </tr>\n",
       "    <tr>\n",
       "      <th>4</th>\n",
       "      <td>20</td>\n",
       "      <td>10</td>\n",
       "      <td>0b1e1539f2cc45b7b9fa7c272da2e1d7</td>\n",
       "      <td>5</td>\n",
       "      <td>0</td>\n",
       "      <td>1</td>\n",
       "      <td>0</td>\n",
       "      <td>1</td>\n",
       "      <td>0</td>\n",
       "      <td>0</td>\n",
       "      <td>1</td>\n",
       "    </tr>\n",
       "  </tbody>\n",
       "</table>\n",
       "</div>"
      ],
      "text/plain": [
       "   difficulty  duration                          offer_id  reward  bogo  \\\n",
       "0          10         7  ae264e3637204a6fb9bb56bc8210ddfd      10     1   \n",
       "1          10         5  4d5c57ea9a6940dd891ad53e9dbe8da0      10     1   \n",
       "2           0         4  3f207df678b143eea3cee63160fa8bed       0     0   \n",
       "3           5         7  9b98b8c7a33c4b65b9aebfe6a799e6d9       5     1   \n",
       "4          20        10  0b1e1539f2cc45b7b9fa7c272da2e1d7       5     0   \n",
       "\n",
       "   discount  informational  email  mobile  social  web  \n",
       "0         0              0      1       1       1    0  \n",
       "1         0              0      1       1       1    1  \n",
       "2         0              1      1       1       0    1  \n",
       "3         0              0      1       1       0    1  \n",
       "4         1              0      1       0       0    1  "
      ]
     },
     "execution_count": 199,
     "metadata": {},
     "output_type": "execute_result"
    }
   ],
   "source": [
    "df_portfolio.head()"
   ]
  },
  {
   "cell_type": "code",
   "execution_count": 200,
   "id": "42d05838",
   "metadata": {},
   "outputs": [
    {
     "data": {
      "text/html": [
       "<div>\n",
       "<style scoped>\n",
       "    .dataframe tbody tr th:only-of-type {\n",
       "        vertical-align: middle;\n",
       "    }\n",
       "\n",
       "    .dataframe tbody tr th {\n",
       "        vertical-align: top;\n",
       "    }\n",
       "\n",
       "    .dataframe thead th {\n",
       "        text-align: right;\n",
       "    }\n",
       "</style>\n",
       "<table border=\"1\" class=\"dataframe\">\n",
       "  <thead>\n",
       "    <tr style=\"text-align: right;\">\n",
       "      <th></th>\n",
       "      <th>channels</th>\n",
       "      <th>difficulty</th>\n",
       "      <th>duration</th>\n",
       "      <th>id</th>\n",
       "      <th>offer_type</th>\n",
       "      <th>reward</th>\n",
       "    </tr>\n",
       "  </thead>\n",
       "  <tbody>\n",
       "    <tr>\n",
       "      <th>0</th>\n",
       "      <td>[email, mobile, social]</td>\n",
       "      <td>10</td>\n",
       "      <td>7</td>\n",
       "      <td>ae264e3637204a6fb9bb56bc8210ddfd</td>\n",
       "      <td>bogo</td>\n",
       "      <td>10</td>\n",
       "    </tr>\n",
       "    <tr>\n",
       "      <th>1</th>\n",
       "      <td>[web, email, mobile, social]</td>\n",
       "      <td>10</td>\n",
       "      <td>5</td>\n",
       "      <td>4d5c57ea9a6940dd891ad53e9dbe8da0</td>\n",
       "      <td>bogo</td>\n",
       "      <td>10</td>\n",
       "    </tr>\n",
       "    <tr>\n",
       "      <th>2</th>\n",
       "      <td>[web, email, mobile]</td>\n",
       "      <td>0</td>\n",
       "      <td>4</td>\n",
       "      <td>3f207df678b143eea3cee63160fa8bed</td>\n",
       "      <td>informational</td>\n",
       "      <td>0</td>\n",
       "    </tr>\n",
       "    <tr>\n",
       "      <th>3</th>\n",
       "      <td>[web, email, mobile]</td>\n",
       "      <td>5</td>\n",
       "      <td>7</td>\n",
       "      <td>9b98b8c7a33c4b65b9aebfe6a799e6d9</td>\n",
       "      <td>bogo</td>\n",
       "      <td>5</td>\n",
       "    </tr>\n",
       "    <tr>\n",
       "      <th>4</th>\n",
       "      <td>[web, email]</td>\n",
       "      <td>20</td>\n",
       "      <td>10</td>\n",
       "      <td>0b1e1539f2cc45b7b9fa7c272da2e1d7</td>\n",
       "      <td>discount</td>\n",
       "      <td>5</td>\n",
       "    </tr>\n",
       "  </tbody>\n",
       "</table>\n",
       "</div>"
      ],
      "text/plain": [
       "                       channels  difficulty  duration  \\\n",
       "0       [email, mobile, social]          10         7   \n",
       "1  [web, email, mobile, social]          10         5   \n",
       "2          [web, email, mobile]           0         4   \n",
       "3          [web, email, mobile]           5         7   \n",
       "4                  [web, email]          20        10   \n",
       "\n",
       "                                 id     offer_type  reward  \n",
       "0  ae264e3637204a6fb9bb56bc8210ddfd           bogo      10  \n",
       "1  4d5c57ea9a6940dd891ad53e9dbe8da0           bogo      10  \n",
       "2  3f207df678b143eea3cee63160fa8bed  informational       0  \n",
       "3  9b98b8c7a33c4b65b9aebfe6a799e6d9           bogo       5  \n",
       "4  0b1e1539f2cc45b7b9fa7c272da2e1d7       discount       5  "
      ]
     },
     "execution_count": 200,
     "metadata": {},
     "output_type": "execute_result"
    }
   ],
   "source": [
    "portfolio.head()"
   ]
  },
  {
   "cell_type": "code",
   "execution_count": 201,
   "id": "bb912535",
   "metadata": {},
   "outputs": [
    {
     "data": {
      "image/png": "[encoded data removed]",
      "text/plain": [
       "<matplotlib.figure.Figure at 0x7f455c235320>"
      ]
     },
     "metadata": {
      "needs_background": "light"
     },
     "output_type": "display_data"
    }
   ],
   "source": [
    "ax = sns.countplot(x=portfolio['offer_type'], data=portfolio)\n",
    "ax.set_title('Offer Type Distribution');"
   ]
  },
  {
   "cell_type": "markdown",
   "id": "ebde89e3",
   "metadata": {},
   "source": [
    "We see that the most present offer types are BOGO and discounts."
   ]
  },
  {
   "cell_type": "markdown",
   "id": "09023dcf",
   "metadata": {},
   "source": [
    "### Profile Analysis"
   ]
  },
  {
   "cell_type": "code",
   "execution_count": 202,
   "id": "496f86d9",
   "metadata": {},
   "outputs": [
    {
     "data": {
      "text/html": [
       "<div>\n",
       "<style scoped>\n",
       "    .dataframe tbody tr th:only-of-type {\n",
       "        vertical-align: middle;\n",
       "    }\n",
       "\n",
       "    .dataframe tbody tr th {\n",
       "        vertical-align: top;\n",
       "    }\n",
       "\n",
       "    .dataframe thead th {\n",
       "        text-align: right;\n",
       "    }\n",
       "</style>\n",
       "<table border=\"1\" class=\"dataframe\">\n",
       "  <thead>\n",
       "    <tr style=\"text-align: right;\">\n",
       "      <th></th>\n",
       "      <th>age</th>\n",
       "      <th>became_member_on</th>\n",
       "      <th>gender</th>\n",
       "      <th>id</th>\n",
       "      <th>income</th>\n",
       "      <th>age_class</th>\n",
       "      <th>income_class</th>\n",
       "      <th>member_year</th>\n",
       "      <th>member_month</th>\n",
       "      <th>member_year_month</th>\n",
       "    </tr>\n",
       "  </thead>\n",
       "  <tbody>\n",
       "    <tr>\n",
       "      <th>1</th>\n",
       "      <td>55</td>\n",
       "      <td>2017-07-15</td>\n",
       "      <td>F</td>\n",
       "      <td>0610b486422d4921ae7d2bf64640c50b</td>\n",
       "      <td>112000.0</td>\n",
       "      <td>Adult</td>\n",
       "      <td>Upper</td>\n",
       "      <td>2017</td>\n",
       "      <td>07</td>\n",
       "      <td>2017-07</td>\n",
       "    </tr>\n",
       "    <tr>\n",
       "      <th>3</th>\n",
       "      <td>75</td>\n",
       "      <td>2017-05-09</td>\n",
       "      <td>F</td>\n",
       "      <td>78afa995795e4d85b5d9ceeca43f5fef</td>\n",
       "      <td>100000.0</td>\n",
       "      <td>Senior</td>\n",
       "      <td>Upper</td>\n",
       "      <td>2017</td>\n",
       "      <td>05</td>\n",
       "      <td>2017-05</td>\n",
       "    </tr>\n",
       "    <tr>\n",
       "      <th>5</th>\n",
       "      <td>68</td>\n",
       "      <td>2018-04-26</td>\n",
       "      <td>M</td>\n",
       "      <td>e2127556f4f64592b11af22de27a7932</td>\n",
       "      <td>70000.0</td>\n",
       "      <td>Senior</td>\n",
       "      <td>Average</td>\n",
       "      <td>2018</td>\n",
       "      <td>04</td>\n",
       "      <td>2018-04</td>\n",
       "    </tr>\n",
       "    <tr>\n",
       "      <th>8</th>\n",
       "      <td>65</td>\n",
       "      <td>2018-02-09</td>\n",
       "      <td>M</td>\n",
       "      <td>389bc3fa690240e798340f5a15918d5c</td>\n",
       "      <td>53000.0</td>\n",
       "      <td>Senior</td>\n",
       "      <td>Average</td>\n",
       "      <td>2018</td>\n",
       "      <td>02</td>\n",
       "      <td>2018-02</td>\n",
       "    </tr>\n",
       "    <tr>\n",
       "      <th>12</th>\n",
       "      <td>58</td>\n",
       "      <td>2017-11-11</td>\n",
       "      <td>M</td>\n",
       "      <td>2eeac8d8feae4a8cad5a6af0499a211d</td>\n",
       "      <td>51000.0</td>\n",
       "      <td>Senior</td>\n",
       "      <td>Average</td>\n",
       "      <td>2017</td>\n",
       "      <td>11</td>\n",
       "      <td>2017-11</td>\n",
       "    </tr>\n",
       "  </tbody>\n",
       "</table>\n",
       "</div>"
      ],
      "text/plain": [
       "    age became_member_on gender                                id    income  \\\n",
       "1    55       2017-07-15      F  0610b486422d4921ae7d2bf64640c50b  112000.0   \n",
       "3    75       2017-05-09      F  78afa995795e4d85b5d9ceeca43f5fef  100000.0   \n",
       "5    68       2018-04-26      M  e2127556f4f64592b11af22de27a7932   70000.0   \n",
       "8    65       2018-02-09      M  389bc3fa690240e798340f5a15918d5c   53000.0   \n",
       "12   58       2017-11-11      M  2eeac8d8feae4a8cad5a6af0499a211d   51000.0   \n",
       "\n",
       "   age_class income_class member_year member_month member_year_month  \n",
       "1      Adult        Upper        2017           07           2017-07  \n",
       "3     Senior        Upper        2017           05           2017-05  \n",
       "5     Senior      Average        2018           04           2018-04  \n",
       "8     Senior      Average        2018           02           2018-02  \n",
       "12    Senior      Average        2017           11           2017-11  "
      ]
     },
     "execution_count": 202,
     "metadata": {},
     "output_type": "execute_result"
    }
   ],
   "source": [
    "profile_df.head()"
   ]
  },
  {
   "cell_type": "code",
   "execution_count": 203,
   "id": "d412f848",
   "metadata": {},
   "outputs": [
    {
     "data": {
      "text/plain": [
       "age                           int64\n",
       "became_member_on     datetime64[ns]\n",
       "gender                       object\n",
       "id                           object\n",
       "income                      float64\n",
       "age_class                  category\n",
       "income_class               category\n",
       "member_year                  object\n",
       "member_month                 object\n",
       "member_year_month            object\n",
       "dtype: object"
      ]
     },
     "execution_count": 203,
     "metadata": {},
     "output_type": "execute_result"
    }
   ],
   "source": [
    "profile_df.dtypes"
   ]
  },
  {
   "cell_type": "code",
   "execution_count": 204,
   "id": "94beae9b",
   "metadata": {},
   "outputs": [
    {
     "data": {
      "text/html": [
       "<div>\n",
       "<style scoped>\n",
       "    .dataframe tbody tr th:only-of-type {\n",
       "        vertical-align: middle;\n",
       "    }\n",
       "\n",
       "    .dataframe tbody tr th {\n",
       "        vertical-align: top;\n",
       "    }\n",
       "\n",
       "    .dataframe thead th {\n",
       "        text-align: right;\n",
       "    }\n",
       "</style>\n",
       "<table border=\"1\" class=\"dataframe\">\n",
       "  <thead>\n",
       "    <tr style=\"text-align: right;\">\n",
       "      <th></th>\n",
       "      <th>age</th>\n",
       "      <th>income</th>\n",
       "    </tr>\n",
       "  </thead>\n",
       "  <tbody>\n",
       "    <tr>\n",
       "      <th>count</th>\n",
       "      <td>14825.000000</td>\n",
       "      <td>14825.000000</td>\n",
       "    </tr>\n",
       "    <tr>\n",
       "      <th>mean</th>\n",
       "      <td>54.393524</td>\n",
       "      <td>65404.991568</td>\n",
       "    </tr>\n",
       "    <tr>\n",
       "      <th>std</th>\n",
       "      <td>17.383705</td>\n",
       "      <td>21598.299410</td>\n",
       "    </tr>\n",
       "    <tr>\n",
       "      <th>min</th>\n",
       "      <td>18.000000</td>\n",
       "      <td>30000.000000</td>\n",
       "    </tr>\n",
       "    <tr>\n",
       "      <th>25%</th>\n",
       "      <td>42.000000</td>\n",
       "      <td>49000.000000</td>\n",
       "    </tr>\n",
       "    <tr>\n",
       "      <th>50%</th>\n",
       "      <td>55.000000</td>\n",
       "      <td>64000.000000</td>\n",
       "    </tr>\n",
       "    <tr>\n",
       "      <th>75%</th>\n",
       "      <td>66.000000</td>\n",
       "      <td>80000.000000</td>\n",
       "    </tr>\n",
       "    <tr>\n",
       "      <th>max</th>\n",
       "      <td>101.000000</td>\n",
       "      <td>120000.000000</td>\n",
       "    </tr>\n",
       "  </tbody>\n",
       "</table>\n",
       "</div>"
      ],
      "text/plain": [
       "                age         income\n",
       "count  14825.000000   14825.000000\n",
       "mean      54.393524   65404.991568\n",
       "std       17.383705   21598.299410\n",
       "min       18.000000   30000.000000\n",
       "25%       42.000000   49000.000000\n",
       "50%       55.000000   64000.000000\n",
       "75%       66.000000   80000.000000\n",
       "max      101.000000  120000.000000"
      ]
     },
     "execution_count": 204,
     "metadata": {},
     "output_type": "execute_result"
    }
   ],
   "source": [
    "profile_df.describe()"
   ]
  },
  {
   "cell_type": "code",
   "execution_count": 205,
   "id": "5e65299d",
   "metadata": {},
   "outputs": [
    {
     "data": {
      "image/png": "[encoded data removed]",
      "text/plain": [
       "<matplotlib.figure.Figure at 0x7f454e0a0f60>"
      ]
     },
     "metadata": {
      "needs_background": "light"
     },
     "output_type": "display_data"
    }
   ],
   "source": [
    "ax = sns.countplot(x=profile_df['age_class'], data=profile_df)\n",
    "ax.set_title('Age Classes');"
   ]
  },
  {
   "cell_type": "markdown",
   "id": "5d5335de",
   "metadata": {},
   "source": [
    "When comparing the count of age groups, the most common customers' age fall under the Adult and Senior groups."
   ]
  },
  {
   "cell_type": "code",
   "execution_count": 206,
   "id": "ee92eaf8",
   "metadata": {},
   "outputs": [
    {
     "data": {
      "image/png": "[encoded data removed]",
      "text/plain": [
       "<matplotlib.figure.Figure at 0x7f454e15ccf8>"
      ]
     },
     "metadata": {
      "needs_background": "light"
     },
     "output_type": "display_data"
    }
   ],
   "source": [
    "ax = sns.countplot(x=profile_df['income_class'], data=profile_df)\n",
    "ax.set_title('Income Classes');"
   ]
  },
  {
   "cell_type": "code",
   "execution_count": 207,
   "id": "2cad5950",
   "metadata": {},
   "outputs": [],
   "source": [
    "bins = [29000.00, 49000.00, 79000.00, 89000.00, np.inf]\n",
    "names = ['Lower', 'Average', 'Above_Avg', 'Upper']"
   ]
  },
  {
   "cell_type": "markdown",
   "id": "b911eafd",
   "metadata": {},
   "source": [
    "As for the income classes, we see people who have an average income shop the most at Starbucks"
   ]
  },
  {
   "cell_type": "markdown",
   "id": "c77dd8df",
   "metadata": {},
   "source": [
    "Remember, the ranges for each class are:\n",
    "\n",
    "Lower: 29000 to 49000\n",
    "\n",
    "Average: 49000 to 79000\n",
    "\n",
    "Above_Avg: 79000 to 89000\n",
    "\n",
    "Upper: Above 89000"
   ]
  },
  {
   "cell_type": "code",
   "execution_count": 208,
   "id": "ad901240",
   "metadata": {},
   "outputs": [
    {
     "data": {
      "image/png": "[encoded data removed]",
      "text/plain": [
       "<matplotlib.figure.Figure at 0x7f454e244f60>"
      ]
     },
     "metadata": {
      "needs_background": "light"
     },
     "output_type": "display_data"
    }
   ],
   "source": [
    "ax = sns.countplot(x=profile_df['gender'], data=profile_df)\n",
    "ax.set_title('Gender Distribution');"
   ]
  },
  {
   "cell_type": "markdown",
   "id": "1353aaca",
   "metadata": {},
   "source": [
    "While, the gender that shops the most here is Male."
   ]
  },
  {
   "cell_type": "markdown",
   "id": "18303666",
   "metadata": {},
   "source": [
    "What months throughout the year do people typically become a member?"
   ]
  },
  {
   "cell_type": "code",
   "execution_count": 209,
   "id": "95053cd6",
   "metadata": {},
   "outputs": [
    {
     "data": {
      "image/png": "[encoded data removed]",
      "text/plain": [
       "<matplotlib.figure.Figure at 0x7f454e3ccc18>"
      ]
     },
     "metadata": {
      "needs_background": "light"
     },
     "output_type": "display_data"
    }
   ],
   "source": [
    "ax = sns.countplot(x=profile_df['member_month'], data=profile_df)\n",
    "ax.set_title('Memberships by Month');"
   ]
  },
  {
   "cell_type": "markdown",
   "id": "cb79ca9a",
   "metadata": {},
   "source": [
    "Looks like January, August, October, and December top out the rest of the year. But from February to July there is an ever slight increase in memberships before it makes a larger jump in August huge.\n",
    "\n",
    "What year was the most successful in terms of new members?"
   ]
  },
  {
   "cell_type": "code",
   "execution_count": 210,
   "id": "0f786211",
   "metadata": {
    "scrolled": true
   },
   "outputs": [
    {
     "data": {
      "image/png": "[encoded data removed]",
      "text/plain": [
       "<matplotlib.figure.Figure at 0x7f454e2f5ac8>"
      ]
     },
     "metadata": {
      "needs_background": "light"
     },
     "output_type": "display_data"
    }
   ],
   "source": [
    "ax = sns.countplot(x=profile_df['member_year'], data=profile_df)\n",
    "ax.set_title('Memberships by Year');"
   ]
  },
  {
   "cell_type": "markdown",
   "id": "e62886e6",
   "metadata": {},
   "source": [
    "We clearly see that in 2017 there was the most amount of memberships."
   ]
  },
  {
   "cell_type": "markdown",
   "id": "568d163a",
   "metadata": {},
   "source": [
    "### Transcript (Offer Data and Transaction) Analysis\n",
    "\n",
    "#### Offers"
   ]
  },
  {
   "cell_type": "code",
   "execution_count": 211,
   "id": "4878298c",
   "metadata": {},
   "outputs": [
    {
     "data": {
      "text/html": [
       "<div>\n",
       "<style scoped>\n",
       "    .dataframe tbody tr th:only-of-type {\n",
       "        vertical-align: middle;\n",
       "    }\n",
       "\n",
       "    .dataframe tbody tr th {\n",
       "        vertical-align: top;\n",
       "    }\n",
       "\n",
       "    .dataframe thead th {\n",
       "        text-align: right;\n",
       "    }\n",
       "</style>\n",
       "<table border=\"1\" class=\"dataframe\">\n",
       "  <thead>\n",
       "    <tr style=\"text-align: right;\">\n",
       "      <th></th>\n",
       "      <th>event</th>\n",
       "      <th>id</th>\n",
       "      <th>time</th>\n",
       "      <th>value</th>\n",
       "      <th>offer_id</th>\n",
       "    </tr>\n",
       "  </thead>\n",
       "  <tbody>\n",
       "    <tr>\n",
       "      <th>0</th>\n",
       "      <td>offer received</td>\n",
       "      <td>78afa995795e4d85b5d9ceeca43f5fef</td>\n",
       "      <td>0.0</td>\n",
       "      <td>{'offer id': '9b98b8c7a33c4b65b9aebfe6a799e6d9'}</td>\n",
       "      <td>9b98b8c7a33c4b65b9aebfe6a799e6d9</td>\n",
       "    </tr>\n",
       "    <tr>\n",
       "      <th>2</th>\n",
       "      <td>offer received</td>\n",
       "      <td>e2127556f4f64592b11af22de27a7932</td>\n",
       "      <td>0.0</td>\n",
       "      <td>{'offer id': '2906b810c7d4411798c6938adc9daaa5'}</td>\n",
       "      <td>2906b810c7d4411798c6938adc9daaa5</td>\n",
       "    </tr>\n",
       "    <tr>\n",
       "      <th>5</th>\n",
       "      <td>offer received</td>\n",
       "      <td>389bc3fa690240e798340f5a15918d5c</td>\n",
       "      <td>0.0</td>\n",
       "      <td>{'offer id': 'f19421c1d4aa40978ebb69ca19b0e20d'}</td>\n",
       "      <td>f19421c1d4aa40978ebb69ca19b0e20d</td>\n",
       "    </tr>\n",
       "    <tr>\n",
       "      <th>7</th>\n",
       "      <td>offer received</td>\n",
       "      <td>2eeac8d8feae4a8cad5a6af0499a211d</td>\n",
       "      <td>0.0</td>\n",
       "      <td>{'offer id': '3f207df678b143eea3cee63160fa8bed'}</td>\n",
       "      <td>3f207df678b143eea3cee63160fa8bed</td>\n",
       "    </tr>\n",
       "    <tr>\n",
       "      <th>8</th>\n",
       "      <td>offer received</td>\n",
       "      <td>aa4862eba776480b8bb9c68455b8c2e1</td>\n",
       "      <td>0.0</td>\n",
       "      <td>{'offer id': '0b1e1539f2cc45b7b9fa7c272da2e1d7'}</td>\n",
       "      <td>0b1e1539f2cc45b7b9fa7c272da2e1d7</td>\n",
       "    </tr>\n",
       "  </tbody>\n",
       "</table>\n",
       "</div>"
      ],
      "text/plain": [
       "            event                                id  time  \\\n",
       "0  offer received  78afa995795e4d85b5d9ceeca43f5fef   0.0   \n",
       "2  offer received  e2127556f4f64592b11af22de27a7932   0.0   \n",
       "5  offer received  389bc3fa690240e798340f5a15918d5c   0.0   \n",
       "7  offer received  2eeac8d8feae4a8cad5a6af0499a211d   0.0   \n",
       "8  offer received  aa4862eba776480b8bb9c68455b8c2e1   0.0   \n",
       "\n",
       "                                              value  \\\n",
       "0  {'offer id': '9b98b8c7a33c4b65b9aebfe6a799e6d9'}   \n",
       "2  {'offer id': '2906b810c7d4411798c6938adc9daaa5'}   \n",
       "5  {'offer id': 'f19421c1d4aa40978ebb69ca19b0e20d'}   \n",
       "7  {'offer id': '3f207df678b143eea3cee63160fa8bed'}   \n",
       "8  {'offer id': '0b1e1539f2cc45b7b9fa7c272da2e1d7'}   \n",
       "\n",
       "                           offer_id  \n",
       "0  9b98b8c7a33c4b65b9aebfe6a799e6d9  \n",
       "2  2906b810c7d4411798c6938adc9daaa5  \n",
       "5  f19421c1d4aa40978ebb69ca19b0e20d  \n",
       "7  3f207df678b143eea3cee63160fa8bed  \n",
       "8  0b1e1539f2cc45b7b9fa7c272da2e1d7  "
      ]
     },
     "execution_count": 211,
     "metadata": {},
     "output_type": "execute_result"
    }
   ],
   "source": [
    "offers.head()"
   ]
  },
  {
   "cell_type": "code",
   "execution_count": 212,
   "id": "ec40cc84",
   "metadata": {},
   "outputs": [
    {
     "data": {
      "image/png": "[encoded data removed]",
      "text/plain": [
       "<matplotlib.figure.Figure at 0x7f454e6284e0>"
      ]
     },
     "metadata": {
      "needs_background": "light"
     },
     "output_type": "display_data"
    }
   ],
   "source": [
    "ax = sns.countplot(x=offers['event'], data=profile_df)\n",
    "ax.set_title('Events Distribution');"
   ]
  },
  {
   "cell_type": "markdown",
   "id": "e6622dce",
   "metadata": {},
   "source": [
    "The offer event that appears the most is offer received."
   ]
  },
  {
   "cell_type": "code",
   "execution_count": 213,
   "id": "0b236885",
   "metadata": {},
   "outputs": [
    {
     "data": {
      "image/png": "[encoded data removed]",
      "text/plain": [
       "<matplotlib.figure.Figure at 0x7f454e86a710>"
      ]
     },
     "metadata": {},
     "output_type": "display_data"
    }
   ],
   "source": [
    "sns.set(rc={\"figure.figsize\":(10, 7)})\n",
    "ax = sns.countplot(x=offers['offer_id'], hue=offers['offer_id'], data=offers, dodge=False)\n",
    "ax.set_title('Offer ID Distribution')\n",
    "#plt.legend(handles=patches, loc=\"upper left\") \n",
    "\n",
    "ax.legend(bbox_to_anchor = (1.03, 1), title='Offer_Ids' );\n",
    "#ax.set_xticklabels(ax.get_xticklabels(), rotation=75, horizontalalignment='right');\n",
    "ax.set(xticklabels=[]);"
   ]
  },
  {
   "cell_type": "markdown",
   "id": "571bac50",
   "metadata": {},
   "source": [
    "#### Transactions"
   ]
  },
  {
   "cell_type": "code",
   "execution_count": 214,
   "id": "27c905c3",
   "metadata": {},
   "outputs": [
    {
     "data": {
      "text/html": [
       "<div>\n",
       "<style scoped>\n",
       "    .dataframe tbody tr th:only-of-type {\n",
       "        vertical-align: middle;\n",
       "    }\n",
       "\n",
       "    .dataframe tbody tr th {\n",
       "        vertical-align: top;\n",
       "    }\n",
       "\n",
       "    .dataframe thead th {\n",
       "        text-align: right;\n",
       "    }\n",
       "</style>\n",
       "<table border=\"1\" class=\"dataframe\">\n",
       "  <thead>\n",
       "    <tr style=\"text-align: right;\">\n",
       "      <th></th>\n",
       "      <th>event</th>\n",
       "      <th>id</th>\n",
       "      <th>time</th>\n",
       "      <th>value</th>\n",
       "      <th>amount_spent</th>\n",
       "    </tr>\n",
       "  </thead>\n",
       "  <tbody>\n",
       "    <tr>\n",
       "      <th>12654</th>\n",
       "      <td>transaction</td>\n",
       "      <td>02c083884c7d45b39cc68e1314fec56c</td>\n",
       "      <td>0.0</td>\n",
       "      <td>{'amount': 0.8300000000000001}</td>\n",
       "      <td>0.83</td>\n",
       "    </tr>\n",
       "    <tr>\n",
       "      <th>12657</th>\n",
       "      <td>transaction</td>\n",
       "      <td>9fa9ae8f57894cc9a3b8a9bbe0fc1b2f</td>\n",
       "      <td>0.0</td>\n",
       "      <td>{'amount': 34.56}</td>\n",
       "      <td>34.56</td>\n",
       "    </tr>\n",
       "    <tr>\n",
       "      <th>12659</th>\n",
       "      <td>transaction</td>\n",
       "      <td>54890f68699049c2a04d415abc25e717</td>\n",
       "      <td>0.0</td>\n",
       "      <td>{'amount': 13.23}</td>\n",
       "      <td>13.23</td>\n",
       "    </tr>\n",
       "    <tr>\n",
       "      <th>12670</th>\n",
       "      <td>transaction</td>\n",
       "      <td>b2f1cd155b864803ad8334cdf13c4bd2</td>\n",
       "      <td>0.0</td>\n",
       "      <td>{'amount': 19.51}</td>\n",
       "      <td>19.51</td>\n",
       "    </tr>\n",
       "    <tr>\n",
       "      <th>12671</th>\n",
       "      <td>transaction</td>\n",
       "      <td>fe97aa22dd3e48c8b143116a8403dd52</td>\n",
       "      <td>0.0</td>\n",
       "      <td>{'amount': 18.97}</td>\n",
       "      <td>18.97</td>\n",
       "    </tr>\n",
       "  </tbody>\n",
       "</table>\n",
       "</div>"
      ],
      "text/plain": [
       "             event                                id  time  \\\n",
       "12654  transaction  02c083884c7d45b39cc68e1314fec56c   0.0   \n",
       "12657  transaction  9fa9ae8f57894cc9a3b8a9bbe0fc1b2f   0.0   \n",
       "12659  transaction  54890f68699049c2a04d415abc25e717   0.0   \n",
       "12670  transaction  b2f1cd155b864803ad8334cdf13c4bd2   0.0   \n",
       "12671  transaction  fe97aa22dd3e48c8b143116a8403dd52   0.0   \n",
       "\n",
       "                                value  amount_spent  \n",
       "12654  {'amount': 0.8300000000000001}          0.83  \n",
       "12657               {'amount': 34.56}         34.56  \n",
       "12659               {'amount': 13.23}         13.23  \n",
       "12670               {'amount': 19.51}         19.51  \n",
       "12671               {'amount': 18.97}         18.97  "
      ]
     },
     "execution_count": 214,
     "metadata": {},
     "output_type": "execute_result"
    }
   ],
   "source": [
    "transaction.head()"
   ]
  },
  {
   "cell_type": "code",
   "execution_count": 215,
   "id": "d70bef69",
   "metadata": {
    "scrolled": true
   },
   "outputs": [
    {
     "data": {
      "text/html": [
       "<div>\n",
       "<style scoped>\n",
       "    .dataframe tbody tr th:only-of-type {\n",
       "        vertical-align: middle;\n",
       "    }\n",
       "\n",
       "    .dataframe tbody tr th {\n",
       "        vertical-align: top;\n",
       "    }\n",
       "\n",
       "    .dataframe thead th {\n",
       "        text-align: right;\n",
       "    }\n",
       "</style>\n",
       "<table border=\"1\" class=\"dataframe\">\n",
       "  <thead>\n",
       "    <tr style=\"text-align: right;\">\n",
       "      <th></th>\n",
       "      <th>age</th>\n",
       "      <th>became_member_on</th>\n",
       "      <th>gender</th>\n",
       "      <th>id</th>\n",
       "      <th>income</th>\n",
       "      <th>age_class</th>\n",
       "      <th>income_class</th>\n",
       "      <th>member_year</th>\n",
       "      <th>member_month</th>\n",
       "      <th>member_year_month</th>\n",
       "    </tr>\n",
       "  </thead>\n",
       "  <tbody>\n",
       "    <tr>\n",
       "      <th>1</th>\n",
       "      <td>55</td>\n",
       "      <td>2017-07-15</td>\n",
       "      <td>F</td>\n",
       "      <td>0610b486422d4921ae7d2bf64640c50b</td>\n",
       "      <td>112000.0</td>\n",
       "      <td>Adult</td>\n",
       "      <td>Upper</td>\n",
       "      <td>2017</td>\n",
       "      <td>07</td>\n",
       "      <td>2017-07</td>\n",
       "    </tr>\n",
       "    <tr>\n",
       "      <th>3</th>\n",
       "      <td>75</td>\n",
       "      <td>2017-05-09</td>\n",
       "      <td>F</td>\n",
       "      <td>78afa995795e4d85b5d9ceeca43f5fef</td>\n",
       "      <td>100000.0</td>\n",
       "      <td>Senior</td>\n",
       "      <td>Upper</td>\n",
       "      <td>2017</td>\n",
       "      <td>05</td>\n",
       "      <td>2017-05</td>\n",
       "    </tr>\n",
       "    <tr>\n",
       "      <th>5</th>\n",
       "      <td>68</td>\n",
       "      <td>2018-04-26</td>\n",
       "      <td>M</td>\n",
       "      <td>e2127556f4f64592b11af22de27a7932</td>\n",
       "      <td>70000.0</td>\n",
       "      <td>Senior</td>\n",
       "      <td>Average</td>\n",
       "      <td>2018</td>\n",
       "      <td>04</td>\n",
       "      <td>2018-04</td>\n",
       "    </tr>\n",
       "    <tr>\n",
       "      <th>8</th>\n",
       "      <td>65</td>\n",
       "      <td>2018-02-09</td>\n",
       "      <td>M</td>\n",
       "      <td>389bc3fa690240e798340f5a15918d5c</td>\n",
       "      <td>53000.0</td>\n",
       "      <td>Senior</td>\n",
       "      <td>Average</td>\n",
       "      <td>2018</td>\n",
       "      <td>02</td>\n",
       "      <td>2018-02</td>\n",
       "    </tr>\n",
       "    <tr>\n",
       "      <th>12</th>\n",
       "      <td>58</td>\n",
       "      <td>2017-11-11</td>\n",
       "      <td>M</td>\n",
       "      <td>2eeac8d8feae4a8cad5a6af0499a211d</td>\n",
       "      <td>51000.0</td>\n",
       "      <td>Senior</td>\n",
       "      <td>Average</td>\n",
       "      <td>2017</td>\n",
       "      <td>11</td>\n",
       "      <td>2017-11</td>\n",
       "    </tr>\n",
       "  </tbody>\n",
       "</table>\n",
       "</div>"
      ],
      "text/plain": [
       "    age became_member_on gender                                id    income  \\\n",
       "1    55       2017-07-15      F  0610b486422d4921ae7d2bf64640c50b  112000.0   \n",
       "3    75       2017-05-09      F  78afa995795e4d85b5d9ceeca43f5fef  100000.0   \n",
       "5    68       2018-04-26      M  e2127556f4f64592b11af22de27a7932   70000.0   \n",
       "8    65       2018-02-09      M  389bc3fa690240e798340f5a15918d5c   53000.0   \n",
       "12   58       2017-11-11      M  2eeac8d8feae4a8cad5a6af0499a211d   51000.0   \n",
       "\n",
       "   age_class income_class member_year member_month member_year_month  \n",
       "1      Adult        Upper        2017           07           2017-07  \n",
       "3     Senior        Upper        2017           05           2017-05  \n",
       "5     Senior      Average        2018           04           2018-04  \n",
       "8     Senior      Average        2018           02           2018-02  \n",
       "12    Senior      Average        2017           11           2017-11  "
      ]
     },
     "execution_count": 215,
     "metadata": {},
     "output_type": "execute_result"
    }
   ],
   "source": [
    "profile_df.head()"
   ]
  },
  {
   "cell_type": "code",
   "execution_count": 216,
   "id": "c89dc4bb",
   "metadata": {},
   "outputs": [
    {
     "data": {
      "text/plain": [
       "17000"
      ]
     },
     "execution_count": 216,
     "metadata": {},
     "output_type": "execute_result"
    }
   ],
   "source": [
    "len(profile)"
   ]
  },
  {
   "cell_type": "code",
   "execution_count": 217,
   "id": "98a6148c",
   "metadata": {},
   "outputs": [
    {
     "data": {
      "text/plain": [
       "123957"
      ]
     },
     "execution_count": 217,
     "metadata": {},
     "output_type": "execute_result"
    }
   ],
   "source": [
    "len(transaction)"
   ]
  },
  {
   "cell_type": "markdown",
   "id": "a633510e",
   "metadata": {},
   "source": [
    "We will combine transactions with the profile_df on id in order to get the customer information for each transaction."
   ]
  },
  {
   "cell_type": "code",
   "execution_count": 218,
   "id": "44a62f47",
   "metadata": {},
   "outputs": [],
   "source": [
    "profile_transactions = pd.merge(transaction, profile_df, on='id', how='left')"
   ]
  },
  {
   "cell_type": "code",
   "execution_count": 219,
   "id": "db510822",
   "metadata": {},
   "outputs": [
    {
     "data": {
      "text/plain": [
       "123957"
      ]
     },
     "execution_count": 219,
     "metadata": {},
     "output_type": "execute_result"
    }
   ],
   "source": [
    "len(profile_transactions)"
   ]
  },
  {
   "cell_type": "code",
   "execution_count": 220,
   "id": "0496a059",
   "metadata": {},
   "outputs": [
    {
     "data": {
      "text/html": [
       "<div>\n",
       "<style scoped>\n",
       "    .dataframe tbody tr th:only-of-type {\n",
       "        vertical-align: middle;\n",
       "    }\n",
       "\n",
       "    .dataframe tbody tr th {\n",
       "        vertical-align: top;\n",
       "    }\n",
       "\n",
       "    .dataframe thead th {\n",
       "        text-align: right;\n",
       "    }\n",
       "</style>\n",
       "<table border=\"1\" class=\"dataframe\">\n",
       "  <thead>\n",
       "    <tr style=\"text-align: right;\">\n",
       "      <th></th>\n",
       "      <th>event</th>\n",
       "      <th>id</th>\n",
       "      <th>time</th>\n",
       "      <th>value</th>\n",
       "      <th>amount_spent</th>\n",
       "      <th>age</th>\n",
       "      <th>became_member_on</th>\n",
       "      <th>gender</th>\n",
       "      <th>income</th>\n",
       "      <th>age_class</th>\n",
       "      <th>income_class</th>\n",
       "      <th>member_year</th>\n",
       "      <th>member_month</th>\n",
       "      <th>member_year_month</th>\n",
       "    </tr>\n",
       "  </thead>\n",
       "  <tbody>\n",
       "    <tr>\n",
       "      <th>0</th>\n",
       "      <td>transaction</td>\n",
       "      <td>02c083884c7d45b39cc68e1314fec56c</td>\n",
       "      <td>0.0</td>\n",
       "      <td>{'amount': 0.8300000000000001}</td>\n",
       "      <td>0.83</td>\n",
       "      <td>20</td>\n",
       "      <td>2016-07-11</td>\n",
       "      <td>F</td>\n",
       "      <td>30000.0</td>\n",
       "      <td>Young_Adult</td>\n",
       "      <td>Lower</td>\n",
       "      <td>2016</td>\n",
       "      <td>07</td>\n",
       "      <td>2016-07</td>\n",
       "    </tr>\n",
       "    <tr>\n",
       "      <th>1</th>\n",
       "      <td>transaction</td>\n",
       "      <td>9fa9ae8f57894cc9a3b8a9bbe0fc1b2f</td>\n",
       "      <td>0.0</td>\n",
       "      <td>{'amount': 34.56}</td>\n",
       "      <td>34.56</td>\n",
       "      <td>42</td>\n",
       "      <td>2016-01-17</td>\n",
       "      <td>M</td>\n",
       "      <td>96000.0</td>\n",
       "      <td>Adult</td>\n",
       "      <td>Upper</td>\n",
       "      <td>2016</td>\n",
       "      <td>01</td>\n",
       "      <td>2016-01</td>\n",
       "    </tr>\n",
       "    <tr>\n",
       "      <th>2</th>\n",
       "      <td>transaction</td>\n",
       "      <td>54890f68699049c2a04d415abc25e717</td>\n",
       "      <td>0.0</td>\n",
       "      <td>{'amount': 13.23}</td>\n",
       "      <td>13.23</td>\n",
       "      <td>36</td>\n",
       "      <td>2017-12-28</td>\n",
       "      <td>M</td>\n",
       "      <td>56000.0</td>\n",
       "      <td>Adult</td>\n",
       "      <td>Average</td>\n",
       "      <td>2017</td>\n",
       "      <td>12</td>\n",
       "      <td>2017-12</td>\n",
       "    </tr>\n",
       "    <tr>\n",
       "      <th>3</th>\n",
       "      <td>transaction</td>\n",
       "      <td>b2f1cd155b864803ad8334cdf13c4bd2</td>\n",
       "      <td>0.0</td>\n",
       "      <td>{'amount': 19.51}</td>\n",
       "      <td>19.51</td>\n",
       "      <td>55</td>\n",
       "      <td>2017-10-16</td>\n",
       "      <td>F</td>\n",
       "      <td>94000.0</td>\n",
       "      <td>Adult</td>\n",
       "      <td>Upper</td>\n",
       "      <td>2017</td>\n",
       "      <td>10</td>\n",
       "      <td>2017-10</td>\n",
       "    </tr>\n",
       "    <tr>\n",
       "      <th>4</th>\n",
       "      <td>transaction</td>\n",
       "      <td>fe97aa22dd3e48c8b143116a8403dd52</td>\n",
       "      <td>0.0</td>\n",
       "      <td>{'amount': 18.97}</td>\n",
       "      <td>18.97</td>\n",
       "      <td>39</td>\n",
       "      <td>2017-12-17</td>\n",
       "      <td>F</td>\n",
       "      <td>67000.0</td>\n",
       "      <td>Adult</td>\n",
       "      <td>Average</td>\n",
       "      <td>2017</td>\n",
       "      <td>12</td>\n",
       "      <td>2017-12</td>\n",
       "    </tr>\n",
       "  </tbody>\n",
       "</table>\n",
       "</div>"
      ],
      "text/plain": [
       "         event                                id  time  \\\n",
       "0  transaction  02c083884c7d45b39cc68e1314fec56c   0.0   \n",
       "1  transaction  9fa9ae8f57894cc9a3b8a9bbe0fc1b2f   0.0   \n",
       "2  transaction  54890f68699049c2a04d415abc25e717   0.0   \n",
       "3  transaction  b2f1cd155b864803ad8334cdf13c4bd2   0.0   \n",
       "4  transaction  fe97aa22dd3e48c8b143116a8403dd52   0.0   \n",
       "\n",
       "                            value  amount_spent  age became_member_on gender  \\\n",
       "0  {'amount': 0.8300000000000001}          0.83   20       2016-07-11      F   \n",
       "1               {'amount': 34.56}         34.56   42       2016-01-17      M   \n",
       "2               {'amount': 13.23}         13.23   36       2017-12-28      M   \n",
       "3               {'amount': 19.51}         19.51   55       2017-10-16      F   \n",
       "4               {'amount': 18.97}         18.97   39       2017-12-17      F   \n",
       "\n",
       "    income    age_class income_class member_year member_month  \\\n",
       "0  30000.0  Young_Adult        Lower        2016           07   \n",
       "1  96000.0        Adult        Upper        2016           01   \n",
       "2  56000.0        Adult      Average        2017           12   \n",
       "3  94000.0        Adult        Upper        2017           10   \n",
       "4  67000.0        Adult      Average        2017           12   \n",
       "\n",
       "  member_year_month  \n",
       "0           2016-07  \n",
       "1           2016-01  \n",
       "2           2017-12  \n",
       "3           2017-10  \n",
       "4           2017-12  "
      ]
     },
     "execution_count": 220,
     "metadata": {},
     "output_type": "execute_result"
    }
   ],
   "source": [
    "profile_transactions.head()"
   ]
  },
  {
   "cell_type": "code",
   "execution_count": 221,
   "id": "6d0f87a9",
   "metadata": {},
   "outputs": [
    {
     "data": {
      "text/plain": [
       "False"
      ]
     },
     "execution_count": 221,
     "metadata": {},
     "output_type": "execute_result"
    }
   ],
   "source": [
    "profile_transactions.isnull().values.any()"
   ]
  },
  {
   "cell_type": "code",
   "execution_count": 222,
   "id": "80701c09",
   "metadata": {},
   "outputs": [
    {
     "data": {
      "image/png": "[encoded data removed]",
      "text/plain": [
       "<matplotlib.figure.Figure at 0x7f454e8e1898>"
      ]
     },
     "metadata": {},
     "output_type": "display_data"
    }
   ],
   "source": [
    "ax = sns.barplot(x=\"age_class\", y=\"amount_spent\", hue=\"gender\", data=profile_transactions);\n",
    "ax.set_title('Average Spent by Age');\n",
    "#amount spent is plotted by the mean. This is the default for seaborn"
   ]
  },
  {
   "cell_type": "markdown",
   "id": "56932734",
   "metadata": {},
   "source": [
    "Here is the average amount spent by gender for each age group. Looks like male seniors spend the most."
   ]
  },
  {
   "cell_type": "code",
   "execution_count": 223,
   "id": "cf2b0eb7",
   "metadata": {},
   "outputs": [
    {
     "data": {
      "image/png": "[encoded data removed]",
      "text/plain": [
       "<matplotlib.figure.Figure at 0x7f454eae8630>"
      ]
     },
     "metadata": {},
     "output_type": "display_data"
    }
   ],
   "source": [
    "#median spent\n",
    "ax = sns.barplot(x=\"age_class\", y=\"amount_spent\", hue=\"gender\", \n",
    "                 data=profile_transactions, estimator = np.median);\n",
    "ax.set_title('Median Spent by Age');"
   ]
  },
  {
   "cell_type": "markdown",
   "id": "3f455ce5",
   "metadata": {},
   "source": [
    "As for the median spent, male seniors are still the highest, with older males coming in second."
   ]
  },
  {
   "cell_type": "code",
   "execution_count": 224,
   "id": "cd7e5dea",
   "metadata": {},
   "outputs": [
    {
     "data": {
      "image/png": "[encoded data removed]",
      "text/plain": [
       "<matplotlib.figure.Figure at 0x7f454f38c1d0>"
      ]
     },
     "metadata": {},
     "output_type": "display_data"
    }
   ],
   "source": [
    "ax = sns.barplot(x=\"income_class\", y=\"amount_spent\", hue=\"gender\", data=profile_transactions);\n",
    "ax.set_title('Average Spent by Income Classes');"
   ]
  },
  {
   "cell_type": "markdown",
   "id": "25dfbb8e",
   "metadata": {},
   "source": [
    "When we look at the income classes, the amount spent is much higher for those in the upper income class."
   ]
  },
  {
   "cell_type": "code",
   "execution_count": 225,
   "id": "3db7225b",
   "metadata": {},
   "outputs": [
    {
     "data": {
      "image/png": "[encoded data removed]",
      "text/plain": [
       "<matplotlib.figure.Figure at 0x7f455cb02240>"
      ]
     },
     "metadata": {},
     "output_type": "display_data"
    }
   ],
   "source": [
    "ax = sns.barplot(x=\"income_class\", y=\"amount_spent\", hue=\"gender\",\n",
    "                 data=profile_transactions, estimator=np.median);\n",
    "ax.set_title('Median Spent by Income Classes');"
   ]
  },
  {
   "cell_type": "markdown",
   "id": "cb31e238",
   "metadata": {},
   "source": [
    "The same can be said about the median amount spent. Those in the upper income class spend the most."
   ]
  },
  {
   "cell_type": "code",
   "execution_count": 227,
   "id": "59b6bded",
   "metadata": {},
   "outputs": [
    {
     "data": {
      "image/png": "[encoded data removed]",
      "text/plain": [
       "<matplotlib.figure.Figure at 0x7f455cb23588>"
      ]
     },
     "metadata": {},
     "output_type": "display_data"
    }
   ],
   "source": [
    "ax = sns.barplot(x=\"income_class\", y=\"amount_spent\", hue=\"age_class\", \n",
    "                 data=profile_transactions, estimator = np.median);\n",
    "ax.set_title('Median Spent by Age and Income Classes');"
   ]
  },
  {
   "cell_type": "markdown",
   "id": "04f04dec",
   "metadata": {},
   "source": [
    "When we look at age and income classes, once again the upper class contains those that spend the most as the median values."
   ]
  },
  {
   "cell_type": "markdown",
   "id": "5fb8a8ef",
   "metadata": {},
   "source": [
    "Now we want to look at the cutomer information for all of the offers in the offers dataframe."
   ]
  },
  {
   "cell_type": "code",
   "execution_count": 228,
   "id": "61bb2b97",
   "metadata": {},
   "outputs": [],
   "source": [
    "profile_offers = pd.merge(offers, profile_df, on='id', how='left')"
   ]
  },
  {
   "cell_type": "code",
   "execution_count": 229,
   "id": "94544b80",
   "metadata": {},
   "outputs": [
    {
     "data": {
      "text/html": [
       "<div>\n",
       "<style scoped>\n",
       "    .dataframe tbody tr th:only-of-type {\n",
       "        vertical-align: middle;\n",
       "    }\n",
       "\n",
       "    .dataframe tbody tr th {\n",
       "        vertical-align: top;\n",
       "    }\n",
       "\n",
       "    .dataframe thead th {\n",
       "        text-align: right;\n",
       "    }\n",
       "</style>\n",
       "<table border=\"1\" class=\"dataframe\">\n",
       "  <thead>\n",
       "    <tr style=\"text-align: right;\">\n",
       "      <th></th>\n",
       "      <th>event</th>\n",
       "      <th>id</th>\n",
       "      <th>time</th>\n",
       "      <th>value</th>\n",
       "      <th>offer_id</th>\n",
       "      <th>age</th>\n",
       "      <th>became_member_on</th>\n",
       "      <th>gender</th>\n",
       "      <th>income</th>\n",
       "      <th>age_class</th>\n",
       "      <th>income_class</th>\n",
       "      <th>member_year</th>\n",
       "      <th>member_month</th>\n",
       "      <th>member_year_month</th>\n",
       "    </tr>\n",
       "  </thead>\n",
       "  <tbody>\n",
       "    <tr>\n",
       "      <th>0</th>\n",
       "      <td>offer received</td>\n",
       "      <td>78afa995795e4d85b5d9ceeca43f5fef</td>\n",
       "      <td>0.0</td>\n",
       "      <td>{'offer id': '9b98b8c7a33c4b65b9aebfe6a799e6d9'}</td>\n",
       "      <td>9b98b8c7a33c4b65b9aebfe6a799e6d9</td>\n",
       "      <td>75</td>\n",
       "      <td>2017-05-09</td>\n",
       "      <td>F</td>\n",
       "      <td>100000.0</td>\n",
       "      <td>Senior</td>\n",
       "      <td>Upper</td>\n",
       "      <td>2017</td>\n",
       "      <td>05</td>\n",
       "      <td>2017-05</td>\n",
       "    </tr>\n",
       "    <tr>\n",
       "      <th>1</th>\n",
       "      <td>offer received</td>\n",
       "      <td>e2127556f4f64592b11af22de27a7932</td>\n",
       "      <td>0.0</td>\n",
       "      <td>{'offer id': '2906b810c7d4411798c6938adc9daaa5'}</td>\n",
       "      <td>2906b810c7d4411798c6938adc9daaa5</td>\n",
       "      <td>68</td>\n",
       "      <td>2018-04-26</td>\n",
       "      <td>M</td>\n",
       "      <td>70000.0</td>\n",
       "      <td>Senior</td>\n",
       "      <td>Average</td>\n",
       "      <td>2018</td>\n",
       "      <td>04</td>\n",
       "      <td>2018-04</td>\n",
       "    </tr>\n",
       "    <tr>\n",
       "      <th>2</th>\n",
       "      <td>offer received</td>\n",
       "      <td>389bc3fa690240e798340f5a15918d5c</td>\n",
       "      <td>0.0</td>\n",
       "      <td>{'offer id': 'f19421c1d4aa40978ebb69ca19b0e20d'}</td>\n",
       "      <td>f19421c1d4aa40978ebb69ca19b0e20d</td>\n",
       "      <td>65</td>\n",
       "      <td>2018-02-09</td>\n",
       "      <td>M</td>\n",
       "      <td>53000.0</td>\n",
       "      <td>Senior</td>\n",
       "      <td>Average</td>\n",
       "      <td>2018</td>\n",
       "      <td>02</td>\n",
       "      <td>2018-02</td>\n",
       "    </tr>\n",
       "    <tr>\n",
       "      <th>3</th>\n",
       "      <td>offer received</td>\n",
       "      <td>2eeac8d8feae4a8cad5a6af0499a211d</td>\n",
       "      <td>0.0</td>\n",
       "      <td>{'offer id': '3f207df678b143eea3cee63160fa8bed'}</td>\n",
       "      <td>3f207df678b143eea3cee63160fa8bed</td>\n",
       "      <td>58</td>\n",
       "      <td>2017-11-11</td>\n",
       "      <td>M</td>\n",
       "      <td>51000.0</td>\n",
       "      <td>Senior</td>\n",
       "      <td>Average</td>\n",
       "      <td>2017</td>\n",
       "      <td>11</td>\n",
       "      <td>2017-11</td>\n",
       "    </tr>\n",
       "    <tr>\n",
       "      <th>4</th>\n",
       "      <td>offer received</td>\n",
       "      <td>aa4862eba776480b8bb9c68455b8c2e1</td>\n",
       "      <td>0.0</td>\n",
       "      <td>{'offer id': '0b1e1539f2cc45b7b9fa7c272da2e1d7'}</td>\n",
       "      <td>0b1e1539f2cc45b7b9fa7c272da2e1d7</td>\n",
       "      <td>61</td>\n",
       "      <td>2017-09-11</td>\n",
       "      <td>F</td>\n",
       "      <td>57000.0</td>\n",
       "      <td>Senior</td>\n",
       "      <td>Average</td>\n",
       "      <td>2017</td>\n",
       "      <td>09</td>\n",
       "      <td>2017-09</td>\n",
       "    </tr>\n",
       "  </tbody>\n",
       "</table>\n",
       "</div>"
      ],
      "text/plain": [
       "            event                                id  time  \\\n",
       "0  offer received  78afa995795e4d85b5d9ceeca43f5fef   0.0   \n",
       "1  offer received  e2127556f4f64592b11af22de27a7932   0.0   \n",
       "2  offer received  389bc3fa690240e798340f5a15918d5c   0.0   \n",
       "3  offer received  2eeac8d8feae4a8cad5a6af0499a211d   0.0   \n",
       "4  offer received  aa4862eba776480b8bb9c68455b8c2e1   0.0   \n",
       "\n",
       "                                              value  \\\n",
       "0  {'offer id': '9b98b8c7a33c4b65b9aebfe6a799e6d9'}   \n",
       "1  {'offer id': '2906b810c7d4411798c6938adc9daaa5'}   \n",
       "2  {'offer id': 'f19421c1d4aa40978ebb69ca19b0e20d'}   \n",
       "3  {'offer id': '3f207df678b143eea3cee63160fa8bed'}   \n",
       "4  {'offer id': '0b1e1539f2cc45b7b9fa7c272da2e1d7'}   \n",
       "\n",
       "                           offer_id  age became_member_on gender    income  \\\n",
       "0  9b98b8c7a33c4b65b9aebfe6a799e6d9   75       2017-05-09      F  100000.0   \n",
       "1  2906b810c7d4411798c6938adc9daaa5   68       2018-04-26      M   70000.0   \n",
       "2  f19421c1d4aa40978ebb69ca19b0e20d   65       2018-02-09      M   53000.0   \n",
       "3  3f207df678b143eea3cee63160fa8bed   58       2017-11-11      M   51000.0   \n",
       "4  0b1e1539f2cc45b7b9fa7c272da2e1d7   61       2017-09-11      F   57000.0   \n",
       "\n",
       "  age_class income_class member_year member_month member_year_month  \n",
       "0    Senior        Upper        2017           05           2017-05  \n",
       "1    Senior      Average        2018           04           2018-04  \n",
       "2    Senior      Average        2018           02           2018-02  \n",
       "3    Senior      Average        2017           11           2017-11  \n",
       "4    Senior      Average        2017           09           2017-09  "
      ]
     },
     "execution_count": 229,
     "metadata": {},
     "output_type": "execute_result"
    }
   ],
   "source": [
    "profile_offers.head()"
   ]
  },
  {
   "cell_type": "code",
   "execution_count": 230,
   "id": "bb784d81",
   "metadata": {},
   "outputs": [
    {
     "data": {
      "text/plain": [
       "offer received     66501\n",
       "offer viewed       49860\n",
       "offer completed    32444\n",
       "Name: event, dtype: int64"
      ]
     },
     "execution_count": 230,
     "metadata": {},
     "output_type": "execute_result"
    }
   ],
   "source": [
    "profile_offers.event.value_counts()"
   ]
  },
  {
   "cell_type": "code",
   "execution_count": 231,
   "id": "854156d5",
   "metadata": {},
   "outputs": [
    {
     "data": {
      "image/png": "[encoded data removed]",
      "text/plain": [
       "<matplotlib.figure.Figure at 0x7f454e7abe10>"
      ]
     },
     "metadata": {},
     "output_type": "display_data"
    }
   ],
   "source": [
    "ax = sns.countplot(x=\"income_class\", hue=\"event\", \n",
    "                 data=profile_offers);\n",
    "ax.set_title('Offer Count by Income Class');"
   ]
  },
  {
   "cell_type": "markdown",
   "id": "80fa93f4",
   "metadata": {},
   "source": [
    "For income class, those who make an average amount recieve the most offers."
   ]
  },
  {
   "cell_type": "code",
   "execution_count": 232,
   "id": "4d38976b",
   "metadata": {},
   "outputs": [
    {
     "data": {
      "image/png": "[encoded data removed]",
      "text/plain": [
       "<matplotlib.figure.Figure at 0x7f454e4d80f0>"
      ]
     },
     "metadata": {},
     "output_type": "display_data"
    }
   ],
   "source": [
    "ax = sns.countplot(x=\"age_class\", hue=\"event\", \n",
    "                 data=profile_offers);\n",
    "ax.set_title('Offer Count by Age Class');"
   ]
  },
  {
   "cell_type": "markdown",
   "id": "82c49f02",
   "metadata": {},
   "source": [
    "However, for age class, it looks like Adults and Seniors get the most of all 3 offer types."
   ]
  },
  {
   "cell_type": "code",
   "execution_count": 233,
   "id": "641c3a21",
   "metadata": {},
   "outputs": [
    {
     "data": {
      "image/png": "[encoded data removed]",
      "text/plain": [
       "<matplotlib.figure.Figure at 0x7f454e40f7f0>"
      ]
     },
     "metadata": {},
     "output_type": "display_data"
    }
   ],
   "source": [
    "ax = sns.countplot(x=\"gender\", hue=\"event\", \n",
    "                 data=profile_offers);\n",
    "ax.set_title('Offer Count by Gender');"
   ]
  },
  {
   "cell_type": "markdown",
   "id": "417371a5",
   "metadata": {},
   "source": [
    "When we look at gender, we see that males ge the most of the 3 offer types."
   ]
  },
  {
   "cell_type": "markdown",
   "id": "b240ce32",
   "metadata": {},
   "source": [
    "### Combining the 3 Data Sets"
   ]
  },
  {
   "cell_type": "code",
   "execution_count": 117,
   "id": "c0335a31",
   "metadata": {},
   "outputs": [],
   "source": [
    "unique_ids = offers['id'].unique()"
   ]
  },
  {
   "cell_type": "code",
   "execution_count": 92,
   "id": "a60b3268",
   "metadata": {},
   "outputs": [
    {
     "data": {
      "text/plain": [
       "numpy.ndarray"
      ]
     },
     "execution_count": 92,
     "metadata": {},
     "output_type": "execute_result"
    }
   ],
   "source": [
    "type(unique_ids)"
   ]
  },
  {
   "cell_type": "code",
   "execution_count": 93,
   "id": "b7c59bcd",
   "metadata": {},
   "outputs": [
    {
     "data": {
      "text/plain": [
       "14820"
      ]
     },
     "execution_count": 93,
     "metadata": {},
     "output_type": "execute_result"
    }
   ],
   "source": [
    "len(unique_ids)"
   ]
  },
  {
   "cell_type": "code",
   "execution_count": 94,
   "id": "c17c6499",
   "metadata": {},
   "outputs": [
    {
     "data": {
      "text/plain": [
       "'e2127556f4f64592b11af22de27a7932'"
      ]
     },
     "execution_count": 94,
     "metadata": {},
     "output_type": "execute_result"
    }
   ],
   "source": [
    "unique_ids[1]"
   ]
  },
  {
   "cell_type": "markdown",
   "id": "0d360c27",
   "metadata": {},
   "source": [
    "Now this next cell is a bit complex, so here is a short summary of what is going on here.\n",
    "\n",
    "For every unique customer id, we are going to get the offers and transactions associated with that id and all of the information that goes along with those that are found in the profile and portfolio dataframes.\n",
    "\n",
    "Once we have that information for that one unique customer id, we will go through each row of information to see whether or not the offer was completed within the time window where the offer is valid. If this is true, then we can say the offer was successful. We do this for all offers, for all unique customer ids."
   ]
  },
  {
   "cell_type": "code",
   "execution_count": 153,
   "id": "60c1fe15",
   "metadata": {},
   "outputs": [],
   "source": [
    "cleaningdata = []\n",
    "\n",
    "#For every index in the list of unique_ids\n",
    "for i in range(len(unique_ids)):\n",
    "    \n",
    "    #We set the current_id equal to the the id number in profile_df on the ith unique_id value\n",
    "    current_id = profile_df[profile_df['id'] == unique_ids[i]]\n",
    "\n",
    "    # Now we get all of the offer data from the current customer\n",
    "    selected_offers = offers['id'] == unique_ids[i]\n",
    "    current_id_offers = offers[selected_offers]\n",
    "    \n",
    "    #We drop the id column to avoid repeated information\n",
    "    current_id_offers = current_id_offers.drop(columns='id').reset_index(drop=True)\n",
    "\n",
    "    \n",
    "    # Here we get the transactions from the current customer\n",
    "    pick_transactions = transaction['id'] == unique_ids[i]\n",
    "    current_id_transaction = transaction[pick_transactions]\n",
    "    \n",
    "    #Once again, we drop the id column to avoid repeated information\n",
    "    current_id_transaction = current_id_transaction.drop(columns='id').reset_index(drop=True)\n",
    "\n",
    "    \n",
    "    #Now we make dataframes based off of the event types in current_id_offers\n",
    "    offer_received = current_id_offers[current_id_offers['event'] == 'offer received']\n",
    "    offer_viewed = current_id_offers[current_id_offers['event'] == 'offer viewed']\n",
    "    offer_completed = current_id_offers[current_id_offers['event'] == 'offer completed']\n",
    "    \n",
    "    #Get the 0th index of shape for offer_received\n",
    "    offers_shape = offer_received.shape[0]\n",
    "    \n",
    "    #We want to see if the offer was successful. So...\n",
    "    #For every index in offer_received.shape[0],\n",
    "    for j in range(offers_shape):\n",
    "\n",
    "        # Get current_offer_id\n",
    "        current_offer_id = offer_received.iloc[j]['offer_id']\n",
    "\n",
    "        # Get the info of the current offer from the df_portfolio of the current_offer_id\n",
    "        cur_offer_portfolio = df_portfolio[df_portfolio['offer_id'] == current_offer_id]\n",
    "        \n",
    "        # Get the duration of the offer\n",
    "        duration = cur_offer_portfolio['duration'].values[0]\n",
    "\n",
    "        # An offer is valid from when the time begins up to how long the duration is.\n",
    "        cur_start_time = offer_received.iloc[j]['time']\n",
    "        cur_end_time = offer_received.iloc[j]['time'] + duration\n",
    "\n",
    "        # Now we want the transactions, completed offers, and viewed offers that\n",
    "        # are within the valid time window.\n",
    "        \n",
    "        #Time window for transactions\n",
    "        data_transactions = []\n",
    "        \n",
    "        for k in current_id_transaction['time']:\n",
    "            if (k >= cur_start_time and k <= cur_end_time):\n",
    "                data_transactions.append(True)\n",
    "            else:\n",
    "                data_transactions.append(False)\n",
    "                \n",
    "        pick_transactions = pd.Series(data_transactions)\n",
    "\n",
    "        \n",
    "        #Time window for completed offers\n",
    "        data_offer_completed = []\n",
    "        \n",
    "        for k in offer_completed['time']:\n",
    "            if (k >= cur_start_time and k <= cur_end_time):\n",
    "                data_offer_completed.append(True)\n",
    "            else:\n",
    "                data_offer_completed.append(False)    \n",
    "                \n",
    "        offer_completed_series = pd.Series(data_offer_completed)\n",
    "        \n",
    "        \n",
    "        #Time window for viewed offers\n",
    "        data_offer_viewed = []\n",
    "        \n",
    "        for k in offer_viewed['time']:\n",
    "            if (k >= cur_start_time and k <= cur_end_time):\n",
    "                data_offer_viewed.append(True)\n",
    "            else:\n",
    "                data_offer_viewed.append(False)\n",
    "        \n",
    "        offer_viewed_series = pd.Series(data_offer_viewed)\n",
    "\n",
    "        \n",
    "        # Now we check if the offer was a success\n",
    "        if (offer_viewed_series.sum () > 0 and offer_completed_series.sum() > 0):\n",
    "            cur_offer_successful = 1 #Successful\n",
    "        else:\n",
    "            cur_offer_successful = 0 #Not Successful\n",
    "\n",
    "            \n",
    "        # Now we make a dict with offersuccessful and time. \n",
    "        # We use this to update our cleaningdata list index by index\n",
    "        row_dict = {'time': cur_start_time, 'offer_successful': cur_offer_successful}\n",
    "        \n",
    "        #Select all rows and cols of cur_offer_portfolio \n",
    "        x = cur_offer_portfolio.iloc[0,1:].to_dict()\n",
    "        #& turn into a dictionary to update row_dct with x\n",
    "        row_dict.update(x)\n",
    "\n",
    "        #Select all rows and cols of current_id \n",
    "        y = current_id.iloc[0,1:].to_dict()\n",
    "        #& turn into a dictionary to update row_dct with y\n",
    "        row_dict.update(y)\n",
    "\n",
    "        # We append row_dict to cleaningdata that contains the current customer's info\n",
    "        cleaningdata.append(row_dict)\n",
    "\n",
    "    cleaningdata\n"
   ]
  },
  {
   "cell_type": "code",
   "execution_count": 75,
   "id": "6274a0b2",
   "metadata": {},
   "outputs": [],
   "source": [
    "#len(cleaningdata)"
   ]
  },
  {
   "cell_type": "code",
   "execution_count": 76,
   "id": "9ca02743",
   "metadata": {},
   "outputs": [],
   "source": [
    "#import multiprocessing as mp\n",
    "#print(mp.cpu_count())"
   ]
  },
  {
   "cell_type": "code",
   "execution_count": 1,
   "id": "560e2e89",
   "metadata": {},
   "outputs": [],
   "source": [
    "#cleaningdata"
   ]
  },
  {
   "cell_type": "code",
   "execution_count": 155,
   "id": "03732726",
   "metadata": {},
   "outputs": [],
   "source": [
    "cleaned_data = pd.DataFrame(cleaningdata)"
   ]
  },
  {
   "cell_type": "code",
   "execution_count": 156,
   "id": "9d9d792f",
   "metadata": {},
   "outputs": [],
   "source": [
    "cleaned_data.to_csv('cleaned_data.csv', index=False)"
   ]
  },
  {
   "cell_type": "markdown",
   "id": "6a7a4261",
   "metadata": {},
   "source": [
    "## Load the merged_data"
   ]
  },
  {
   "cell_type": "code",
   "execution_count": 234,
   "id": "f3548776",
   "metadata": {},
   "outputs": [],
   "source": [
    "merged_data = pd.read_csv('cleaned_data.csv')"
   ]
  },
  {
   "cell_type": "code",
   "execution_count": 235,
   "id": "d26a5a6b",
   "metadata": {},
   "outputs": [
    {
     "data": {
      "text/html": [
       "<div>\n",
       "<style scoped>\n",
       "    .dataframe tbody tr th:only-of-type {\n",
       "        vertical-align: middle;\n",
       "    }\n",
       "\n",
       "    .dataframe tbody tr th {\n",
       "        vertical-align: top;\n",
       "    }\n",
       "\n",
       "    .dataframe thead th {\n",
       "        text-align: right;\n",
       "    }\n",
       "</style>\n",
       "<table border=\"1\" class=\"dataframe\">\n",
       "  <thead>\n",
       "    <tr style=\"text-align: right;\">\n",
       "      <th></th>\n",
       "      <th>age_class</th>\n",
       "      <th>became_member_on</th>\n",
       "      <th>bogo</th>\n",
       "      <th>discount</th>\n",
       "      <th>duration</th>\n",
       "      <th>email</th>\n",
       "      <th>gender</th>\n",
       "      <th>id</th>\n",
       "      <th>income</th>\n",
       "      <th>income_class</th>\n",
       "      <th>informational</th>\n",
       "      <th>member_month</th>\n",
       "      <th>member_year</th>\n",
       "      <th>member_year_month</th>\n",
       "      <th>mobile</th>\n",
       "      <th>offer_id</th>\n",
       "      <th>offer_successful</th>\n",
       "      <th>reward</th>\n",
       "      <th>social</th>\n",
       "      <th>time</th>\n",
       "      <th>web</th>\n",
       "    </tr>\n",
       "  </thead>\n",
       "  <tbody>\n",
       "    <tr>\n",
       "      <th>0</th>\n",
       "      <td>Senior</td>\n",
       "      <td>2017-05-09</td>\n",
       "      <td>1</td>\n",
       "      <td>0</td>\n",
       "      <td>7</td>\n",
       "      <td>1</td>\n",
       "      <td>F</td>\n",
       "      <td>78afa995795e4d85b5d9ceeca43f5fef</td>\n",
       "      <td>100000.0</td>\n",
       "      <td>Upper</td>\n",
       "      <td>0</td>\n",
       "      <td>5</td>\n",
       "      <td>2017</td>\n",
       "      <td>2017-05</td>\n",
       "      <td>1</td>\n",
       "      <td>9b98b8c7a33c4b65b9aebfe6a799e6d9</td>\n",
       "      <td>1</td>\n",
       "      <td>5</td>\n",
       "      <td>0</td>\n",
       "      <td>0.0</td>\n",
       "      <td>1</td>\n",
       "    </tr>\n",
       "    <tr>\n",
       "      <th>1</th>\n",
       "      <td>Senior</td>\n",
       "      <td>2017-05-09</td>\n",
       "      <td>0</td>\n",
       "      <td>0</td>\n",
       "      <td>3</td>\n",
       "      <td>1</td>\n",
       "      <td>F</td>\n",
       "      <td>78afa995795e4d85b5d9ceeca43f5fef</td>\n",
       "      <td>100000.0</td>\n",
       "      <td>Upper</td>\n",
       "      <td>1</td>\n",
       "      <td>5</td>\n",
       "      <td>2017</td>\n",
       "      <td>2017-05</td>\n",
       "      <td>1</td>\n",
       "      <td>5a8bc65990b245e5a138643cd4eb9837</td>\n",
       "      <td>0</td>\n",
       "      <td>0</td>\n",
       "      <td>1</td>\n",
       "      <td>7.0</td>\n",
       "      <td>0</td>\n",
       "    </tr>\n",
       "    <tr>\n",
       "      <th>2</th>\n",
       "      <td>Senior</td>\n",
       "      <td>2017-05-09</td>\n",
       "      <td>1</td>\n",
       "      <td>0</td>\n",
       "      <td>7</td>\n",
       "      <td>1</td>\n",
       "      <td>F</td>\n",
       "      <td>78afa995795e4d85b5d9ceeca43f5fef</td>\n",
       "      <td>100000.0</td>\n",
       "      <td>Upper</td>\n",
       "      <td>0</td>\n",
       "      <td>5</td>\n",
       "      <td>2017</td>\n",
       "      <td>2017-05</td>\n",
       "      <td>1</td>\n",
       "      <td>ae264e3637204a6fb9bb56bc8210ddfd</td>\n",
       "      <td>1</td>\n",
       "      <td>10</td>\n",
       "      <td>1</td>\n",
       "      <td>17.0</td>\n",
       "      <td>0</td>\n",
       "    </tr>\n",
       "    <tr>\n",
       "      <th>3</th>\n",
       "      <td>Senior</td>\n",
       "      <td>2017-05-09</td>\n",
       "      <td>1</td>\n",
       "      <td>0</td>\n",
       "      <td>5</td>\n",
       "      <td>1</td>\n",
       "      <td>F</td>\n",
       "      <td>78afa995795e4d85b5d9ceeca43f5fef</td>\n",
       "      <td>100000.0</td>\n",
       "      <td>Upper</td>\n",
       "      <td>0</td>\n",
       "      <td>5</td>\n",
       "      <td>2017</td>\n",
       "      <td>2017-05</td>\n",
       "      <td>1</td>\n",
       "      <td>f19421c1d4aa40978ebb69ca19b0e20d</td>\n",
       "      <td>1</td>\n",
       "      <td>5</td>\n",
       "      <td>1</td>\n",
       "      <td>21.0</td>\n",
       "      <td>1</td>\n",
       "    </tr>\n",
       "    <tr>\n",
       "      <th>4</th>\n",
       "      <td>Senior</td>\n",
       "      <td>2018-04-26</td>\n",
       "      <td>0</td>\n",
       "      <td>1</td>\n",
       "      <td>7</td>\n",
       "      <td>1</td>\n",
       "      <td>M</td>\n",
       "      <td>e2127556f4f64592b11af22de27a7932</td>\n",
       "      <td>70000.0</td>\n",
       "      <td>Average</td>\n",
       "      <td>0</td>\n",
       "      <td>4</td>\n",
       "      <td>2018</td>\n",
       "      <td>2018-04</td>\n",
       "      <td>1</td>\n",
       "      <td>2906b810c7d4411798c6938adc9daaa5</td>\n",
       "      <td>0</td>\n",
       "      <td>2</td>\n",
       "      <td>0</td>\n",
       "      <td>0.0</td>\n",
       "      <td>1</td>\n",
       "    </tr>\n",
       "  </tbody>\n",
       "</table>\n",
       "</div>"
      ],
      "text/plain": [
       "  age_class became_member_on  bogo  discount  duration  email gender  \\\n",
       "0    Senior       2017-05-09     1         0         7      1      F   \n",
       "1    Senior       2017-05-09     0         0         3      1      F   \n",
       "2    Senior       2017-05-09     1         0         7      1      F   \n",
       "3    Senior       2017-05-09     1         0         5      1      F   \n",
       "4    Senior       2018-04-26     0         1         7      1      M   \n",
       "\n",
       "                                 id    income income_class  informational  \\\n",
       "0  78afa995795e4d85b5d9ceeca43f5fef  100000.0        Upper              0   \n",
       "1  78afa995795e4d85b5d9ceeca43f5fef  100000.0        Upper              1   \n",
       "2  78afa995795e4d85b5d9ceeca43f5fef  100000.0        Upper              0   \n",
       "3  78afa995795e4d85b5d9ceeca43f5fef  100000.0        Upper              0   \n",
       "4  e2127556f4f64592b11af22de27a7932   70000.0      Average              0   \n",
       "\n",
       "   member_month  member_year member_year_month  mobile  \\\n",
       "0             5         2017           2017-05       1   \n",
       "1             5         2017           2017-05       1   \n",
       "2             5         2017           2017-05       1   \n",
       "3             5         2017           2017-05       1   \n",
       "4             4         2018           2018-04       1   \n",
       "\n",
       "                           offer_id  offer_successful  reward  social  time  \\\n",
       "0  9b98b8c7a33c4b65b9aebfe6a799e6d9                 1       5       0   0.0   \n",
       "1  5a8bc65990b245e5a138643cd4eb9837                 0       0       1   7.0   \n",
       "2  ae264e3637204a6fb9bb56bc8210ddfd                 1      10       1  17.0   \n",
       "3  f19421c1d4aa40978ebb69ca19b0e20d                 1       5       1  21.0   \n",
       "4  2906b810c7d4411798c6938adc9daaa5                 0       2       0   0.0   \n",
       "\n",
       "   web  \n",
       "0    1  \n",
       "1    0  \n",
       "2    0  \n",
       "3    1  \n",
       "4    1  "
      ]
     },
     "execution_count": 235,
     "metadata": {},
     "output_type": "execute_result"
    }
   ],
   "source": [
    "merged_data.head()"
   ]
  },
  {
   "cell_type": "code",
   "execution_count": 236,
   "id": "f38553d0",
   "metadata": {
    "scrolled": true
   },
   "outputs": [
    {
     "data": {
      "text/plain": [
       "0    35136\n",
       "1    31365\n",
       "Name: offer_successful, dtype: int64"
      ]
     },
     "execution_count": 236,
     "metadata": {},
     "output_type": "execute_result"
    }
   ],
   "source": [
    "merged_data.offer_successful.value_counts()"
   ]
  },
  {
   "cell_type": "code",
   "execution_count": 237,
   "id": "4d4c1e0e",
   "metadata": {},
   "outputs": [
    {
     "data": {
      "image/png": "[encoded data removed]",
      "text/plain": [
       "<matplotlib.figure.Figure at 0x7f454e273400>"
      ]
     },
     "metadata": {},
     "output_type": "display_data"
    }
   ],
   "source": [
    "ax = sns.countplot(x=\"offer_successful\", hue=\"gender\", \n",
    "                 data=merged_data);\n",
    "ax.set_title('Count of Successful Offers by Gender');"
   ]
  },
  {
   "cell_type": "markdown",
   "id": "18414207",
   "metadata": {},
   "source": [
    "When looking at gender, we see that offers were mostly unsuccessful for males, but more successful for females."
   ]
  },
  {
   "cell_type": "code",
   "execution_count": 238,
   "id": "27f78394",
   "metadata": {},
   "outputs": [
    {
     "data": {
      "image/png": "[encoded data removed]",
      "text/plain": [
       "<matplotlib.figure.Figure at 0x7f454e16be10>"
      ]
     },
     "metadata": {},
     "output_type": "display_data"
    }
   ],
   "source": [
    "ax = sns.countplot(x=\"offer_successful\", hue=\"income_class\", \n",
    "                 data=merged_data);\n",
    "ax.set_title('Count of Offers Successful by Income Class');"
   ]
  },
  {
   "cell_type": "markdown",
   "id": "aa36c836",
   "metadata": {},
   "source": [
    "For income classes, we see that offers are more successful for upper and above average customers, and more unsuccessful for average and lower income customers."
   ]
  },
  {
   "cell_type": "code",
   "execution_count": 239,
   "id": "3a60298e",
   "metadata": {
    "scrolled": false
   },
   "outputs": [
    {
     "data": {
      "image/png": "[encoded data removed]",
      "text/plain": [
       "<matplotlib.figure.Figure at 0x7f454e0aeb70>"
      ]
     },
     "metadata": {},
     "output_type": "display_data"
    }
   ],
   "source": [
    "sns.set(rc={\"figure.figsize\":(10, 10)})\n",
    "ax = sns.countplot(x=\"offer_successful\", hue=\"age_class\", \n",
    "                 data=merged_data);\n",
    "ax.set_title('Count of Offers Successful by Age Class');"
   ]
  },
  {
   "cell_type": "markdown",
   "id": "a15f0e0e",
   "metadata": {},
   "source": [
    "For all age groups, it seems as if offers are unsuccessful."
   ]
  },
  {
   "cell_type": "markdown",
   "id": "01ef4225",
   "metadata": {},
   "source": [
    "Let's take a look of the types of successful offers, like BOGO, Discounts, and Information."
   ]
  },
  {
   "cell_type": "code",
   "execution_count": 241,
   "id": "f51f351a",
   "metadata": {},
   "outputs": [],
   "source": [
    "merged_success = merged_data[merged_data['offer_successful'] == 1]"
   ]
  },
  {
   "cell_type": "code",
   "execution_count": 242,
   "id": "0fe64caa",
   "metadata": {},
   "outputs": [
    {
     "data": {
      "text/plain": [
       "31365"
      ]
     },
     "execution_count": 242,
     "metadata": {},
     "output_type": "execute_result"
    }
   ],
   "source": [
    "len(merged_success)"
   ]
  },
  {
   "cell_type": "code",
   "execution_count": 243,
   "id": "c6096caf",
   "metadata": {},
   "outputs": [],
   "source": [
    "merged_success_bogo = merged_success[merged_success['bogo'] == 1]"
   ]
  },
  {
   "cell_type": "markdown",
   "id": "b1b8bc75",
   "metadata": {},
   "source": [
    "#### Bogo Success Groups"
   ]
  },
  {
   "cell_type": "code",
   "execution_count": 244,
   "id": "06c745c1",
   "metadata": {},
   "outputs": [
    {
     "data": {
      "image/png": "[encoded data removed]",
      "text/plain": [
       "<matplotlib.figure.Figure at 0x7f455c2380f0>"
      ]
     },
     "metadata": {},
     "output_type": "display_data"
    }
   ],
   "source": [
    "sns.set(rc={\"figure.figsize\":(10, 7)})\n",
    "ax = sns.countplot(x=\"gender\", hue=\"offer_id\", \n",
    "                 data=merged_success_bogo);\n",
    "ax.set_title('Successful Bogo Offers by Gender');"
   ]
  },
  {
   "cell_type": "markdown",
   "id": "2811ed64",
   "metadata": {},
   "source": [
    "The offer_id in burgundy looks to be the most successful for male and females."
   ]
  },
  {
   "cell_type": "code",
   "execution_count": 253,
   "id": "1ce16a4a",
   "metadata": {},
   "outputs": [
    {
     "data": {
      "image/png": "[encoded data removed]",
      "text/plain": [
       "<matplotlib.figure.Figure at 0x7f454e664cf8>"
      ]
     },
     "metadata": {},
     "output_type": "display_data"
    }
   ],
   "source": [
    "ax = sns.countplot(x=\"age_class\", hue=\"offer_id\", \n",
    "                 data=merged_success_bogo);\n",
    "ax.set_title('Successful Bogo Offers by Age Group');"
   ]
  },
  {
   "cell_type": "markdown",
   "id": "b0e1891b",
   "metadata": {},
   "source": [
    "Once again, the bogo offer in burgundy is the most successful for all 4 age groups."
   ]
  },
  {
   "cell_type": "code",
   "execution_count": 246,
   "id": "f945d922",
   "metadata": {},
   "outputs": [
    {
     "data": {
      "image/png": "[encoded data removed]",
      "text/plain": [
       "<matplotlib.figure.Figure at 0x7f455cd1bfd0>"
      ]
     },
     "metadata": {},
     "output_type": "display_data"
    }
   ],
   "source": [
    "ax = sns.countplot(x=\"income_class\", hue=\"offer_id\", \n",
    "                 data=merged_success_bogo);\n",
    "ax.set_title('Successful Bogo Offers by Income Class');"
   ]
  },
  {
   "cell_type": "markdown",
   "id": "f6480575",
   "metadata": {},
   "source": [
    "The same can be said for the upper, average, and lower income classes. However, for above average income customers, the 4 offers seem very close together."
   ]
  },
  {
   "cell_type": "markdown",
   "id": "638fd2e5",
   "metadata": {},
   "source": [
    "#### Informational Success Groups"
   ]
  },
  {
   "cell_type": "code",
   "execution_count": 247,
   "id": "d0d6d9fe",
   "metadata": {},
   "outputs": [],
   "source": [
    "merged_success_info = merged_success[merged_success['informational'] == 1]"
   ]
  },
  {
   "cell_type": "code",
   "execution_count": 249,
   "id": "92f4a8b5",
   "metadata": {},
   "outputs": [
    {
     "data": {
      "image/png": "[encoded data removed]",
      "text/plain": [
       "<matplotlib.figure.Figure at 0x7f455c285668>"
      ]
     },
     "metadata": {},
     "output_type": "display_data"
    }
   ],
   "source": [
    "ax = sns.countplot(x=\"gender\", hue=\"offer_id\", \n",
    "                 data=merged_success_info);\n",
    "ax.set_title('Successful Informational Offers by Gender');"
   ]
  },
  {
   "cell_type": "markdown",
   "id": "b69b4fc8",
   "metadata": {},
   "source": [
    "For these two informational offers, it looks like they are most successful with male customers."
   ]
  },
  {
   "cell_type": "code",
   "execution_count": 250,
   "id": "7062bcb1",
   "metadata": {},
   "outputs": [
    {
     "data": {
      "image/png": "[encoded data removed]",
      "text/plain": [
       "<matplotlib.figure.Figure at 0x7f455c2b6940>"
      ]
     },
     "metadata": {},
     "output_type": "display_data"
    }
   ],
   "source": [
    "ax = sns.countplot(x=\"income_class\", hue=\"offer_id\", \n",
    "                 data=merged_success_info);\n",
    "ax.set_title('Successful Informational Offers by Income Class');"
   ]
  },
  {
   "cell_type": "markdown",
   "id": "6a6442bf",
   "metadata": {},
   "source": [
    "As for income classes, they are most successful towards those that have an average income."
   ]
  },
  {
   "cell_type": "code",
   "execution_count": 252,
   "id": "bd4ad22c",
   "metadata": {},
   "outputs": [
    {
     "data": {
      "image/png": "[encoded data removed]",
      "text/plain": [
       "<matplotlib.figure.Figure at 0x7f454e5c9e10>"
      ]
     },
     "metadata": {},
     "output_type": "display_data"
    }
   ],
   "source": [
    "ax = sns.countplot(x=\"age_class\", hue=\"offer_id\", \n",
    "                 data=merged_success_info);\n",
    "ax.set_title('Successful Informational Offers by Age Group');"
   ]
  },
  {
   "cell_type": "markdown",
   "id": "437023d7",
   "metadata": {},
   "source": [
    "And for age groups, they are most successful with Seniors and Adults."
   ]
  },
  {
   "cell_type": "markdown",
   "id": "3349c6d6",
   "metadata": {},
   "source": [
    "#### Discount Success Groups"
   ]
  },
  {
   "cell_type": "code",
   "execution_count": 255,
   "id": "6574d968",
   "metadata": {},
   "outputs": [],
   "source": [
    "merged_success_discount = merged_success[merged_success['discount'] == 1]"
   ]
  },
  {
   "cell_type": "code",
   "execution_count": 256,
   "id": "f02a7fcb",
   "metadata": {},
   "outputs": [
    {
     "data": {
      "image/png": "[encoded data removed]",
      "text/plain": [
       "<matplotlib.figure.Figure at 0x7f454eacd198>"
      ]
     },
     "metadata": {},
     "output_type": "display_data"
    }
   ],
   "source": [
    "ax = sns.countplot(x=\"gender\", hue=\"offer_id\", \n",
    "                 data=merged_success_discount);\n",
    "ax.set_title('Successful Discount Offers by Gender');"
   ]
  },
  {
   "cell_type": "markdown",
   "id": "57b2b3a4",
   "metadata": {},
   "source": [
    "For discounts, the purple and blue offers are most successful for these 3 genders."
   ]
  },
  {
   "cell_type": "code",
   "execution_count": 257,
   "id": "bc21bc25",
   "metadata": {},
   "outputs": [
    {
     "data": {
      "image/png": "[encoded data removed]",
      "text/plain": [
       "<matplotlib.figure.Figure at 0x7f454e900a58>"
      ]
     },
     "metadata": {},
     "output_type": "display_data"
    }
   ],
   "source": [
    "ax = sns.countplot(x=\"income_class\", hue=\"offer_id\", \n",
    "                 data=merged_success_discount);\n",
    "ax.set_title('Successful Discount Offers by Income Class');"
   ]
  },
  {
   "cell_type": "markdown",
   "id": "a6371716",
   "metadata": {},
   "source": [
    "We see again the blue and purple offers dominating, but this time in all 4 income classes."
   ]
  },
  {
   "cell_type": "code",
   "execution_count": 258,
   "id": "79a8baf7",
   "metadata": {},
   "outputs": [
    {
     "data": {
      "image/png": "[encoded data removed]",
      "text/plain": [
       "<matplotlib.figure.Figure at 0x7f454e752b00>"
      ]
     },
     "metadata": {},
     "output_type": "display_data"
    }
   ],
   "source": [
    "sns.set(rc={\"figure.figsize\":(16, 10)})\n",
    "ax = sns.countplot(x=\"age_class\", hue=\"offer_id\", \n",
    "                 data=merged_success_discount);\n",
    "ax.set_title('Successful Discount Offers by Age Group');"
   ]
  },
  {
   "cell_type": "markdown",
   "id": "dc0ad26b",
   "metadata": {},
   "source": [
    "The same can be said for the 4 age classes."
   ]
  },
  {
   "cell_type": "markdown",
   "id": "c5bc8945",
   "metadata": {},
   "source": [
    "## Making Our Model\n",
    "\n",
    "For our model, we want to be able to predict whether or not a customer will successfully complete an offer or not. Since the output is either a 1 or 0, this is a classification problem that we would like to solve.\n",
    "\n",
    "We will start with Logistic Regression, and then move onto Random Forest.\n",
    "\n",
    "We will first select our features and our target variable, then split our data into training and testing.\n",
    "\n",
    "But first, let's make gender numerical."
   ]
  },
  {
   "cell_type": "code",
   "execution_count": 3,
   "id": "aabd2666",
   "metadata": {},
   "outputs": [],
   "source": [
    "gender = {'M': 0,'F': 1, 'O':2}\n",
    "merged_data.gender = [gender[item] for item in merged_data.gender]"
   ]
  },
  {
   "cell_type": "code",
   "execution_count": 70,
   "id": "e985e295",
   "metadata": {},
   "outputs": [
    {
     "data": {
      "text/html": [
       "<div>\n",
       "<style scoped>\n",
       "    .dataframe tbody tr th:only-of-type {\n",
       "        vertical-align: middle;\n",
       "    }\n",
       "\n",
       "    .dataframe tbody tr th {\n",
       "        vertical-align: top;\n",
       "    }\n",
       "\n",
       "    .dataframe thead th {\n",
       "        text-align: right;\n",
       "    }\n",
       "</style>\n",
       "<table border=\"1\" class=\"dataframe\">\n",
       "  <thead>\n",
       "    <tr style=\"text-align: right;\">\n",
       "      <th></th>\n",
       "      <th>age_class</th>\n",
       "      <th>became_member_on</th>\n",
       "      <th>bogo</th>\n",
       "      <th>discount</th>\n",
       "      <th>duration</th>\n",
       "      <th>email</th>\n",
       "      <th>gender</th>\n",
       "      <th>id</th>\n",
       "      <th>income</th>\n",
       "      <th>income_class</th>\n",
       "      <th>informational</th>\n",
       "      <th>member_month</th>\n",
       "      <th>member_year</th>\n",
       "      <th>member_year_month</th>\n",
       "      <th>mobile</th>\n",
       "      <th>offer_id</th>\n",
       "      <th>offer_successful</th>\n",
       "      <th>reward</th>\n",
       "      <th>social</th>\n",
       "      <th>time</th>\n",
       "      <th>web</th>\n",
       "    </tr>\n",
       "  </thead>\n",
       "  <tbody>\n",
       "    <tr>\n",
       "      <th>0</th>\n",
       "      <td>Senior</td>\n",
       "      <td>2017-05-09</td>\n",
       "      <td>1</td>\n",
       "      <td>0</td>\n",
       "      <td>7</td>\n",
       "      <td>1</td>\n",
       "      <td>1</td>\n",
       "      <td>78afa995795e4d85b5d9ceeca43f5fef</td>\n",
       "      <td>100000.0</td>\n",
       "      <td>Upper</td>\n",
       "      <td>0</td>\n",
       "      <td>5</td>\n",
       "      <td>2017</td>\n",
       "      <td>2017-05</td>\n",
       "      <td>1</td>\n",
       "      <td>9b98b8c7a33c4b65b9aebfe6a799e6d9</td>\n",
       "      <td>1</td>\n",
       "      <td>5</td>\n",
       "      <td>0</td>\n",
       "      <td>0.0</td>\n",
       "      <td>1</td>\n",
       "    </tr>\n",
       "    <tr>\n",
       "      <th>1</th>\n",
       "      <td>Senior</td>\n",
       "      <td>2017-05-09</td>\n",
       "      <td>0</td>\n",
       "      <td>0</td>\n",
       "      <td>3</td>\n",
       "      <td>1</td>\n",
       "      <td>1</td>\n",
       "      <td>78afa995795e4d85b5d9ceeca43f5fef</td>\n",
       "      <td>100000.0</td>\n",
       "      <td>Upper</td>\n",
       "      <td>1</td>\n",
       "      <td>5</td>\n",
       "      <td>2017</td>\n",
       "      <td>2017-05</td>\n",
       "      <td>1</td>\n",
       "      <td>5a8bc65990b245e5a138643cd4eb9837</td>\n",
       "      <td>0</td>\n",
       "      <td>0</td>\n",
       "      <td>1</td>\n",
       "      <td>7.0</td>\n",
       "      <td>0</td>\n",
       "    </tr>\n",
       "    <tr>\n",
       "      <th>2</th>\n",
       "      <td>Senior</td>\n",
       "      <td>2017-05-09</td>\n",
       "      <td>1</td>\n",
       "      <td>0</td>\n",
       "      <td>7</td>\n",
       "      <td>1</td>\n",
       "      <td>1</td>\n",
       "      <td>78afa995795e4d85b5d9ceeca43f5fef</td>\n",
       "      <td>100000.0</td>\n",
       "      <td>Upper</td>\n",
       "      <td>0</td>\n",
       "      <td>5</td>\n",
       "      <td>2017</td>\n",
       "      <td>2017-05</td>\n",
       "      <td>1</td>\n",
       "      <td>ae264e3637204a6fb9bb56bc8210ddfd</td>\n",
       "      <td>1</td>\n",
       "      <td>10</td>\n",
       "      <td>1</td>\n",
       "      <td>17.0</td>\n",
       "      <td>0</td>\n",
       "    </tr>\n",
       "    <tr>\n",
       "      <th>3</th>\n",
       "      <td>Senior</td>\n",
       "      <td>2017-05-09</td>\n",
       "      <td>1</td>\n",
       "      <td>0</td>\n",
       "      <td>5</td>\n",
       "      <td>1</td>\n",
       "      <td>1</td>\n",
       "      <td>78afa995795e4d85b5d9ceeca43f5fef</td>\n",
       "      <td>100000.0</td>\n",
       "      <td>Upper</td>\n",
       "      <td>0</td>\n",
       "      <td>5</td>\n",
       "      <td>2017</td>\n",
       "      <td>2017-05</td>\n",
       "      <td>1</td>\n",
       "      <td>f19421c1d4aa40978ebb69ca19b0e20d</td>\n",
       "      <td>1</td>\n",
       "      <td>5</td>\n",
       "      <td>1</td>\n",
       "      <td>21.0</td>\n",
       "      <td>1</td>\n",
       "    </tr>\n",
       "    <tr>\n",
       "      <th>4</th>\n",
       "      <td>Senior</td>\n",
       "      <td>2018-04-26</td>\n",
       "      <td>0</td>\n",
       "      <td>1</td>\n",
       "      <td>7</td>\n",
       "      <td>1</td>\n",
       "      <td>0</td>\n",
       "      <td>e2127556f4f64592b11af22de27a7932</td>\n",
       "      <td>70000.0</td>\n",
       "      <td>Average</td>\n",
       "      <td>0</td>\n",
       "      <td>4</td>\n",
       "      <td>2018</td>\n",
       "      <td>2018-04</td>\n",
       "      <td>1</td>\n",
       "      <td>2906b810c7d4411798c6938adc9daaa5</td>\n",
       "      <td>0</td>\n",
       "      <td>2</td>\n",
       "      <td>0</td>\n",
       "      <td>0.0</td>\n",
       "      <td>1</td>\n",
       "    </tr>\n",
       "  </tbody>\n",
       "</table>\n",
       "</div>"
      ],
      "text/plain": [
       "  age_class became_member_on  bogo  discount  duration  email  gender  \\\n",
       "0    Senior       2017-05-09     1         0         7      1       1   \n",
       "1    Senior       2017-05-09     0         0         3      1       1   \n",
       "2    Senior       2017-05-09     1         0         7      1       1   \n",
       "3    Senior       2017-05-09     1         0         5      1       1   \n",
       "4    Senior       2018-04-26     0         1         7      1       0   \n",
       "\n",
       "                                 id    income income_class  informational  \\\n",
       "0  78afa995795e4d85b5d9ceeca43f5fef  100000.0        Upper              0   \n",
       "1  78afa995795e4d85b5d9ceeca43f5fef  100000.0        Upper              1   \n",
       "2  78afa995795e4d85b5d9ceeca43f5fef  100000.0        Upper              0   \n",
       "3  78afa995795e4d85b5d9ceeca43f5fef  100000.0        Upper              0   \n",
       "4  e2127556f4f64592b11af22de27a7932   70000.0      Average              0   \n",
       "\n",
       "   member_month  member_year member_year_month  mobile  \\\n",
       "0             5         2017           2017-05       1   \n",
       "1             5         2017           2017-05       1   \n",
       "2             5         2017           2017-05       1   \n",
       "3             5         2017           2017-05       1   \n",
       "4             4         2018           2018-04       1   \n",
       "\n",
       "                           offer_id  offer_successful  reward  social  time  \\\n",
       "0  9b98b8c7a33c4b65b9aebfe6a799e6d9                 1       5       0   0.0   \n",
       "1  5a8bc65990b245e5a138643cd4eb9837                 0       0       1   7.0   \n",
       "2  ae264e3637204a6fb9bb56bc8210ddfd                 1      10       1  17.0   \n",
       "3  f19421c1d4aa40978ebb69ca19b0e20d                 1       5       1  21.0   \n",
       "4  2906b810c7d4411798c6938adc9daaa5                 0       2       0   0.0   \n",
       "\n",
       "   web  \n",
       "0    1  \n",
       "1    0  \n",
       "2    0  \n",
       "3    1  \n",
       "4    1  "
      ]
     },
     "execution_count": 70,
     "metadata": {},
     "output_type": "execute_result"
    }
   ],
   "source": [
    "merged_data.head()"
   ]
  },
  {
   "cell_type": "markdown",
   "id": "d90f6301",
   "metadata": {},
   "source": [
    "Some features we would like to exclude from our model include id (customer id), became_member_on (we have this column separated as year and month columns).\n",
    "\n",
    "Source: https://towardsdatascience.com/feature-selection-techniques-in-machine-learning-with-python-f24e7da3f36e\n",
    "\n",
    "https://www.quora.com/In-developing-a-machine-learning-model-can-I-use-the-ID-as-an-input-variable-or-how-can-I-benefit-from-the-fact-that-there-is-data-about-that-specific-individual?share=1"
   ]
  },
  {
   "cell_type": "code",
   "execution_count": 4,
   "id": "4d9e1f14",
   "metadata": {},
   "outputs": [],
   "source": [
    "X = merged_data.drop(['offer_successful', 'id', 'offer_id',\n",
    "                      'became_member_on', 'member_year_month',\n",
    "                      'age_class', 'income_class'], axis=1)\n",
    "y = merged_data['offer_successful']\n",
    "\n",
    "#Split into training and testing\n",
    "X_train, X_test, y_train, y_test = train_test_split(X, y, test_size=.20)"
   ]
  },
  {
   "cell_type": "code",
   "execution_count": 5,
   "id": "411b5db1",
   "metadata": {},
   "outputs": [
    {
     "data": {
      "text/plain": [
       "bogo               int64\n",
       "discount           int64\n",
       "duration           int64\n",
       "email              int64\n",
       "gender             int64\n",
       "income           float64\n",
       "informational      int64\n",
       "member_month       int64\n",
       "member_year        int64\n",
       "mobile             int64\n",
       "reward             int64\n",
       "social             int64\n",
       "time             float64\n",
       "web                int64\n",
       "dtype: object"
      ]
     },
     "execution_count": 5,
     "metadata": {},
     "output_type": "execute_result"
    }
   ],
   "source": [
    "X_train.dtypes"
   ]
  },
  {
   "cell_type": "markdown",
   "id": "d4c591ca",
   "metadata": {},
   "source": [
    "Now, we shall standardize then normalize our training and testing data.\n",
    "\n",
    "But first let's see how our logistic regression model performs before and after normalizing."
   ]
  },
  {
   "cell_type": "markdown",
   "id": "4c3a2737",
   "metadata": {},
   "source": [
    "### Logistic Regression"
   ]
  },
  {
   "cell_type": "code",
   "execution_count": 21,
   "id": "8a6fc415",
   "metadata": {},
   "outputs": [],
   "source": [
    "#Standardizing\n",
    "scaler = StandardScaler()\n",
    "X_train_s = scaler.fit_transform(X_train)\n",
    "X_test_s = scaler.fit_transform(X_test)"
   ]
  },
  {
   "cell_type": "code",
   "execution_count": 22,
   "id": "ba4e55c7",
   "metadata": {},
   "outputs": [],
   "source": [
    "log_reg = LogisticRegression()\n",
    "log_reg.fit(X_train_s, y_train)\n",
    "y_pred = log_reg.predict(X_test_s)"
   ]
  },
  {
   "cell_type": "code",
   "execution_count": 23,
   "id": "b2b84e99",
   "metadata": {},
   "outputs": [
    {
     "name": "stdout",
     "output_type": "stream",
     "text": [
      "             precision    recall  f1-score   support\n",
      "\n",
      "          0       0.74      0.69      0.72      6987\n",
      "          1       0.68      0.73      0.71      6314\n",
      "\n",
      "avg / total       0.71      0.71      0.71     13301\n",
      "\n",
      "F1 Score: 0.707149404216\n",
      "Precision Score: 0.682944821481\n",
      "Recall Score: 0.733132720938\n",
      "Accuracy Score: 0.711750996166\n"
     ]
    }
   ],
   "source": [
    "print(classification_report(y_test, y_pred))\n",
    "print('F1 Score:', f1_score(y_test, y_pred))\n",
    "print('Precision Score:', precision_score(y_test, y_pred))\n",
    "print('Recall Score:', recall_score(y_test, y_pred))\n",
    "print('Accuracy Score:', accuracy_score(y_test, y_pred))"
   ]
  },
  {
   "cell_type": "markdown",
   "id": "106cd6da",
   "metadata": {},
   "source": [
    "Now lets normalize the data and check our model's performance once again."
   ]
  },
  {
   "cell_type": "code",
   "execution_count": 24,
   "id": "f8f2113d",
   "metadata": {},
   "outputs": [],
   "source": [
    "#Normalize with MinMaxScaler\n",
    "scaler = MinMaxScaler()\n",
    "X_train_n = scaler.fit_transform(X_train_s)\n",
    "X_test_n = scaler.fit_transform(X_test_s)"
   ]
  },
  {
   "cell_type": "code",
   "execution_count": 25,
   "id": "d3758286",
   "metadata": {},
   "outputs": [],
   "source": [
    "log_reg = LogisticRegression()\n",
    "log_reg.fit(X_train_n, y_train)\n",
    "y_pred = log_reg.predict(X_test_n)"
   ]
  },
  {
   "cell_type": "code",
   "execution_count": 26,
   "id": "e8811d57",
   "metadata": {},
   "outputs": [
    {
     "name": "stdout",
     "output_type": "stream",
     "text": [
      "             precision    recall  f1-score   support\n",
      "\n",
      "          0       0.74      0.69      0.72      6987\n",
      "          1       0.68      0.74      0.71      6314\n",
      "\n",
      "avg / total       0.71      0.71      0.71     13301\n",
      "\n",
      "F1 Score: 0.708365076947\n",
      "Precision Score: 0.682472108045\n",
      "Recall Score: 0.736300285081\n",
      "Accuracy Score: 0.712202090068\n"
     ]
    }
   ],
   "source": [
    "print(classification_report(y_test, y_pred))\n",
    "print('F1 Score:', f1_score(y_test, y_pred))\n",
    "print('Precision Score:', precision_score(y_test, y_pred))\n",
    "print('Recall Score:', recall_score(y_test, y_pred))\n",
    "print('Accuracy Score:', accuracy_score(y_test, y_pred))"
   ]
  },
  {
   "cell_type": "markdown",
   "id": "f4992790",
   "metadata": {},
   "source": [
    "We see a slightly better performance of the model after nornamalization for the F1 Score, Recall, and Accuracy."
   ]
  },
  {
   "cell_type": "markdown",
   "id": "ed626578",
   "metadata": {},
   "source": [
    "Now, let's perform k-fold cross validation to estimate the skill of our logistic regression model."
   ]
  },
  {
   "cell_type": "code",
   "execution_count": 27,
   "id": "3e6ab7d3",
   "metadata": {
    "scrolled": true
   },
   "outputs": [
    {
     "name": "stdout",
     "output_type": "stream",
     "text": [
      "Accuracy: 0.711 (0.010)\n"
     ]
    }
   ],
   "source": [
    "cv = KFold(n_splits=20, random_state=24, shuffle=True)\n",
    "scores = cross_val_score(log_reg, X_train_n, y_train, scoring='accuracy', cv=cv, n_jobs=-1)\n",
    "print('Accuracy: %.3f (%.3f)' % (np.mean(scores), np.std(scores)))"
   ]
  },
  {
   "cell_type": "code",
   "execution_count": 28,
   "id": "7f3ea83e",
   "metadata": {},
   "outputs": [
    {
     "name": "stdout",
     "output_type": "stream",
     "text": [
      "Accuracy: 0.711 (0.015)\n"
     ]
    }
   ],
   "source": [
    "cv = KFold(n_splits=20, random_state=24, shuffle=True)\n",
    "scores = cross_val_score(log_reg, X_test_n, y_test, scoring='accuracy', cv=cv, n_jobs=-1)\n",
    "print('Accuracy: %.3f (%.3f)' % (np.mean(scores), np.std(scores)))"
   ]
  },
  {
   "cell_type": "code",
   "execution_count": 29,
   "id": "6389363e",
   "metadata": {},
   "outputs": [
    {
     "name": "stdout",
     "output_type": "stream",
     "text": [
      "Cross-Validation Accuracy Scores [ 0.70437888  0.70545113  0.7075188   0.71165414  0.71691729  0.71033835\n",
      "  0.71541353  0.71109023  0.72086466  0.70558376]\n"
     ]
    }
   ],
   "source": [
    "scores = cross_val_score(log_reg, X_train_n, y_train, cv=10)\n",
    "print('Cross-Validation Accuracy Scores', scores)"
   ]
  },
  {
   "cell_type": "code",
   "execution_count": 30,
   "id": "f924e052",
   "metadata": {},
   "outputs": [
    {
     "name": "stdout",
     "output_type": "stream",
     "text": [
      "Min Score: 0.704378876151\n",
      "Average Score: 0.71092107528\n",
      "Max Score 0.720864661654\n"
     ]
    }
   ],
   "source": [
    "scores = pd.Series(scores)\n",
    "print('Min Score:', scores.min())\n",
    "print('Average Score:', scores.mean())\n",
    "print('Max Score', scores.max())\n",
    "\n",
    "#source: https://medium.com/@lily_su/logistic-regression-accuracy-cross-validation-58d9eb58d6e6"
   ]
  },
  {
   "cell_type": "markdown",
   "id": "a17fa457",
   "metadata": {},
   "source": [
    "And there we have it. We see that our model has a mean accuracy score of 71%.\n",
    "\n",
    "Let's now use a Random Forest Classifier."
   ]
  },
  {
   "cell_type": "markdown",
   "id": "5f4b2cda",
   "metadata": {},
   "source": [
    "### Random Forest Classifier"
   ]
  },
  {
   "cell_type": "code",
   "execution_count": 36,
   "id": "a04c40eb",
   "metadata": {},
   "outputs": [],
   "source": [
    "clf=RandomForestClassifier(n_estimators=100)"
   ]
  },
  {
   "cell_type": "code",
   "execution_count": 37,
   "id": "d69f7250",
   "metadata": {},
   "outputs": [],
   "source": [
    "clf.fit(X_train_n,y_train)\n",
    "\n",
    "y_pred=clf.predict(X_test_n)"
   ]
  },
  {
   "cell_type": "code",
   "execution_count": 38,
   "id": "b9219e3a",
   "metadata": {},
   "outputs": [
    {
     "name": "stdout",
     "output_type": "stream",
     "text": [
      "             precision    recall  f1-score   support\n",
      "\n",
      "          0       0.72      0.71      0.71      7015\n",
      "          1       0.68      0.69      0.68      6286\n",
      "\n",
      "avg / total       0.70      0.70      0.70     13301\n",
      "\n",
      "F1 Score: 0.684626323274\n",
      "Precision Score: 0.680006277464\n",
      "Recall Score: 0.689309576837\n",
      "Accuracy Score: 0.699872190061\n"
     ]
    }
   ],
   "source": [
    "print(classification_report(y_test, y_pred))\n",
    "print('F1 Score:', f1_score(y_test, y_pred))\n",
    "print('Precision Score:', precision_score(y_test, y_pred))\n",
    "print('Recall Score:', recall_score(y_test, y_pred))\n",
    "print('Accuracy Score:', accuracy_score(y_test, y_pred))"
   ]
  },
  {
   "cell_type": "code",
   "execution_count": 39,
   "id": "cdb11597",
   "metadata": {},
   "outputs": [
    {
     "name": "stdout",
     "output_type": "stream",
     "text": [
      "Accuracy: 0.699872190061\n"
     ]
    }
   ],
   "source": [
    "print(\"Accuracy:\", metrics.accuracy_score(y_test, y_pred))"
   ]
  },
  {
   "cell_type": "code",
   "execution_count": 40,
   "id": "ead2cf5b",
   "metadata": {},
   "outputs": [
    {
     "name": "stdout",
     "output_type": "stream",
     "text": [
      "Scores = [ 0.70625822  0.69642857  0.71090226  0.70263158  0.7         0.70601504\n",
      "  0.70075188  0.70526316  0.69943609  0.69486746]\n"
     ]
    }
   ],
   "source": [
    "scores = cross_val_score(clf, X_train_n, y_train, cv=10)\n",
    "print('Scores =', scores)"
   ]
  },
  {
   "cell_type": "code",
   "execution_count": 41,
   "id": "48e666e7",
   "metadata": {},
   "outputs": [
    {
     "name": "stdout",
     "output_type": "stream",
     "text": [
      "Scores = [ 0.6904583   0.70473328  0.70398197  0.70398197  0.70773854  0.68947368\n",
      "  0.71933785  0.70654628  0.70278405  0.7185854 ]\n"
     ]
    }
   ],
   "source": [
    "scores = cross_val_score(clf, X_test_n, y_test, cv=10)\n",
    "print('Scores =', scores)"
   ]
  },
  {
   "cell_type": "code",
   "execution_count": 42,
   "id": "60060b6c",
   "metadata": {},
   "outputs": [
    {
     "name": "stdout",
     "output_type": "stream",
     "text": [
      "Min Score: 0.689473684211\n",
      "Average Score: 0.704762132294\n",
      "Max Score 0.719337848006\n"
     ]
    }
   ],
   "source": [
    "scores = pd.Series(scores)\n",
    "print('Min Score:', scores.min())\n",
    "print('Average Score:', scores.mean())\n",
    "print('Max Score', scores.max())"
   ]
  },
  {
   "cell_type": "markdown",
   "id": "569f4e17",
   "metadata": {},
   "source": [
    "We see that the average score of the Logitistic Regression model outperforms that of the Random Forest Classifier by just 1%."
   ]
  }
 ],
 "metadata": {
  "kernelspec": {
   "display_name": "Python 3",
   "language": "python",
   "name": "python3"
  },
  "language_info": {
   "codemirror_mode": {
    "name": "ipython",
    "version": 3
   },
   "file_extension": ".py",
   "mimetype": "text/x-python",
   "name": "python",
   "nbconvert_exporter": "python",
   "pygments_lexer": "ipython3",
   "version": "3.8.3"
  }
 },
 "nbformat": 4,
 "nbformat_minor": 5
}
